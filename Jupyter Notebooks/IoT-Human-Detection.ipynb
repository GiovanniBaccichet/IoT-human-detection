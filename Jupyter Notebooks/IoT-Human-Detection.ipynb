{
 "cells": [
  {
   "cell_type": "markdown",
   "id": "846ccba2",
   "metadata": {
    "pycharm": {
     "name": "#%% md\n"
    }
   },
   "source": [
    "# IoT - Human Detection Notebook 📹"
   ]
  },
  {
   "cell_type": "markdown",
   "id": "1c8def3c",
   "metadata": {
    "pycharm": {
     "name": "#%% md\n"
    }
   },
   "source": [
    "Giovanni Baccichet (`10851745`) - Politecnico di Milano"
   ]
  },
  {
   "cell_type": "markdown",
   "id": "f414b48a",
   "metadata": {
    "pycharm": {
     "name": "#%% md\n"
    }
   },
   "source": [
    "## Libraries 📔"
   ]
  },
  {
   "cell_type": "code",
   "execution_count": 123,
   "id": "cee22471",
   "metadata": {
    "pycharm": {
     "name": "#%%\n"
    }
   },
   "outputs": [],
   "source": [
    "import pandas as pd \n",
    "import glob\n",
    "import matplotlib.pyplot as plt\n",
    "import numpy as np\n",
    "from numpy import array\n",
    "import seaborn as sns\n",
    "from datetime import datetime\n",
    "import time\n",
    "import os"
   ]
  },
  {
   "cell_type": "code",
   "execution_count": 124,
   "id": "fcb07df3",
   "metadata": {
    "pycharm": {
     "name": "#%%\n"
    }
   },
   "outputs": [],
   "source": [
    "from sklearn import preprocessing\n",
    "from sklearn.preprocessing import StandardScaler\n",
    "from sklearn.preprocessing import MinMaxScaler\n",
    "from sklearn.preprocessing import RobustScaler\n",
    "from sklearn.model_selection import train_test_split\n",
    "\n",
    "from sklearn.naive_bayes import MultinomialNB\n",
    "from sklearn.decomposition import PCA\n",
    "from sklearn.ensemble import RandomForestRegressor\n",
    "from sklearn.ensemble import RandomForestClassifier\n",
    "from sklearn.neighbors import KNeighborsClassifier\n",
    "from sklearn.svm import SVC\n",
    "from sklearn.linear_model import LogisticRegression\n",
    "\n",
    "from sklearn import metrics\n",
    "from sklearn.metrics import accuracy_score\n",
    "from sklearn.metrics import confusion_matrix\n",
    "from sklearn.metrics import classification_report\n",
    "from sklearn.metrics import precision_recall_fscore_support as score\n",
    "from sklearn.metrics import completeness_score, homogeneity_score, v_measure_score\n",
    "\n",
    "import pickle"
   ]
  },
  {
   "cell_type": "markdown",
   "id": "636ee75d",
   "metadata": {
    "pycharm": {
     "name": "#%% md\n"
    }
   },
   "source": [
    "## Pre-Processing 🧼"
   ]
  },
  {
   "cell_type": "markdown",
   "id": "237ba4ee",
   "metadata": {},
   "source": [
    "Setting working directory to current one."
   ]
  },
  {
   "cell_type": "code",
   "execution_count": 125,
   "id": "de51d519",
   "metadata": {
    "pycharm": {
     "name": "#%%\n"
    }
   },
   "outputs": [],
   "source": [
    "working_directory = os.getcwd()\n",
    "path = working_directory + '/Dataset/'"
   ]
  },
  {
   "cell_type": "markdown",
   "id": "ac286fcf",
   "metadata": {},
   "source": [
    "Reading dataset (CSV), setting the columns and converting the Time column to `datetime` type."
   ]
  },
  {
   "cell_type": "code",
   "execution_count": 126,
   "id": "eefb6654",
   "metadata": {
    "pycharm": {
     "name": "#%%\n"
    }
   },
   "outputs": [],
   "source": [
    "df = pd.read_csv('Dataset/zoom2_dataset.csv', encoding = \"utf-8\", index_col=False, on_bad_lines='skip')\n",
    "df.columns=[\"Time\", \"Source\", \"Destination\", \"Protocol\", \"Length\"]\n",
    "\n",
    "df['Time'] = pd.to_datetime(df['Time'])\n"
   ]
  },
  {
   "cell_type": "markdown",
   "id": "1f2d8a49",
   "metadata": {},
   "source": [
    "Adding the `Direction` column, depending on the `Source` IP address: if it is the eavedropper's one, then it is `Outboud`."
   ]
  },
  {
   "cell_type": "code",
   "execution_count": 127,
   "id": "85cfc678",
   "metadata": {
    "pycharm": {
     "name": "#%%\n"
    }
   },
   "outputs": [],
   "source": [
    "df['Direction'] = np.where(df['Source']== '192.168.178.69', 'Outbound', 'Inbound')"
   ]
  },
  {
   "cell_type": "markdown",
   "id": "91dea03b",
   "metadata": {},
   "source": [
    "Visualizing the data frame."
   ]
  },
  {
   "cell_type": "code",
   "execution_count": 128,
   "id": "8e5a099c",
   "metadata": {},
   "outputs": [
    {
     "data": {
      "text/html": [
       "<div>\n",
       "<style scoped>\n",
       "    .dataframe tbody tr th:only-of-type {\n",
       "        vertical-align: middle;\n",
       "    }\n",
       "\n",
       "    .dataframe tbody tr th {\n",
       "        vertical-align: top;\n",
       "    }\n",
       "\n",
       "    .dataframe thead th {\n",
       "        text-align: right;\n",
       "    }\n",
       "</style>\n",
       "<table border=\"1\" class=\"dataframe\">\n",
       "  <thead>\n",
       "    <tr style=\"text-align: right;\">\n",
       "      <th></th>\n",
       "      <th>Time</th>\n",
       "      <th>Source</th>\n",
       "      <th>Destination</th>\n",
       "      <th>Protocol</th>\n",
       "      <th>Length</th>\n",
       "      <th>Direction</th>\n",
       "    </tr>\n",
       "  </thead>\n",
       "  <tbody>\n",
       "    <tr>\n",
       "      <th>0</th>\n",
       "      <td>2022-06-29 11:56:16.424537</td>\n",
       "      <td>149.137.12.48</td>\n",
       "      <td>192.168.178.69</td>\n",
       "      <td>17</td>\n",
       "      <td>294</td>\n",
       "      <td>Inbound</td>\n",
       "    </tr>\n",
       "    <tr>\n",
       "      <th>1</th>\n",
       "      <td>2022-06-29 11:56:16.445008</td>\n",
       "      <td>149.137.12.48</td>\n",
       "      <td>192.168.178.69</td>\n",
       "      <td>17</td>\n",
       "      <td>415</td>\n",
       "      <td>Inbound</td>\n",
       "    </tr>\n",
       "    <tr>\n",
       "      <th>2</th>\n",
       "      <td>2022-06-29 11:56:16.486022</td>\n",
       "      <td>149.137.12.48</td>\n",
       "      <td>192.168.178.69</td>\n",
       "      <td>17</td>\n",
       "      <td>679</td>\n",
       "      <td>Inbound</td>\n",
       "    </tr>\n",
       "    <tr>\n",
       "      <th>3</th>\n",
       "      <td>2022-06-29 11:56:16.526955</td>\n",
       "      <td>149.137.12.48</td>\n",
       "      <td>192.168.178.69</td>\n",
       "      <td>17</td>\n",
       "      <td>595</td>\n",
       "      <td>Inbound</td>\n",
       "    </tr>\n",
       "    <tr>\n",
       "      <th>4</th>\n",
       "      <td>2022-06-29 11:56:16.526958</td>\n",
       "      <td>149.137.12.48</td>\n",
       "      <td>192.168.178.69</td>\n",
       "      <td>17</td>\n",
       "      <td>594</td>\n",
       "      <td>Inbound</td>\n",
       "    </tr>\n",
       "    <tr>\n",
       "      <th>...</th>\n",
       "      <td>...</td>\n",
       "      <td>...</td>\n",
       "      <td>...</td>\n",
       "      <td>...</td>\n",
       "      <td>...</td>\n",
       "      <td>...</td>\n",
       "    </tr>\n",
       "    <tr>\n",
       "      <th>193648</th>\n",
       "      <td>2022-06-29 12:36:05.084564</td>\n",
       "      <td>149.137.12.48</td>\n",
       "      <td>192.168.178.69</td>\n",
       "      <td>17</td>\n",
       "      <td>477</td>\n",
       "      <td>Inbound</td>\n",
       "    </tr>\n",
       "    <tr>\n",
       "      <th>193649</th>\n",
       "      <td>2022-06-29 12:36:05.084565</td>\n",
       "      <td>149.137.12.48</td>\n",
       "      <td>192.168.178.69</td>\n",
       "      <td>17</td>\n",
       "      <td>477</td>\n",
       "      <td>Inbound</td>\n",
       "    </tr>\n",
       "    <tr>\n",
       "      <th>193650</th>\n",
       "      <td>2022-06-29 12:36:05.084792</td>\n",
       "      <td>149.137.12.48</td>\n",
       "      <td>192.168.178.69</td>\n",
       "      <td>17</td>\n",
       "      <td>476</td>\n",
       "      <td>Inbound</td>\n",
       "    </tr>\n",
       "    <tr>\n",
       "      <th>193651</th>\n",
       "      <td>2022-06-29 12:36:05.084793</td>\n",
       "      <td>149.137.12.48</td>\n",
       "      <td>192.168.178.69</td>\n",
       "      <td>17</td>\n",
       "      <td>508</td>\n",
       "      <td>Inbound</td>\n",
       "    </tr>\n",
       "    <tr>\n",
       "      <th>193652</th>\n",
       "      <td>2022-06-29 12:36:05.104856</td>\n",
       "      <td>149.137.12.48</td>\n",
       "      <td>192.168.178.69</td>\n",
       "      <td>17</td>\n",
       "      <td>631</td>\n",
       "      <td>Inbound</td>\n",
       "    </tr>\n",
       "  </tbody>\n",
       "</table>\n",
       "<p>193653 rows × 6 columns</p>\n",
       "</div>"
      ],
      "text/plain": [
       "                             Time         Source     Destination  Protocol  \\\n",
       "0      2022-06-29 11:56:16.424537  149.137.12.48  192.168.178.69        17   \n",
       "1      2022-06-29 11:56:16.445008  149.137.12.48  192.168.178.69        17   \n",
       "2      2022-06-29 11:56:16.486022  149.137.12.48  192.168.178.69        17   \n",
       "3      2022-06-29 11:56:16.526955  149.137.12.48  192.168.178.69        17   \n",
       "4      2022-06-29 11:56:16.526958  149.137.12.48  192.168.178.69        17   \n",
       "...                           ...            ...             ...       ...   \n",
       "193648 2022-06-29 12:36:05.084564  149.137.12.48  192.168.178.69        17   \n",
       "193649 2022-06-29 12:36:05.084565  149.137.12.48  192.168.178.69        17   \n",
       "193650 2022-06-29 12:36:05.084792  149.137.12.48  192.168.178.69        17   \n",
       "193651 2022-06-29 12:36:05.084793  149.137.12.48  192.168.178.69        17   \n",
       "193652 2022-06-29 12:36:05.104856  149.137.12.48  192.168.178.69        17   \n",
       "\n",
       "        Length Direction  \n",
       "0          294   Inbound  \n",
       "1          415   Inbound  \n",
       "2          679   Inbound  \n",
       "3          595   Inbound  \n",
       "4          594   Inbound  \n",
       "...        ...       ...  \n",
       "193648     477   Inbound  \n",
       "193649     477   Inbound  \n",
       "193650     476   Inbound  \n",
       "193651     508   Inbound  \n",
       "193652     631   Inbound  \n",
       "\n",
       "[193653 rows x 6 columns]"
      ]
     },
     "execution_count": 128,
     "metadata": {},
     "output_type": "execute_result"
    }
   ],
   "source": [
    "df"
   ]
  },
  {
   "cell_type": "markdown",
   "id": "cfaa10e9",
   "metadata": {
    "pycharm": {
     "name": "#%% md\n"
    }
   },
   "source": [
    "Preparing the acquired **ground truth**: timestamps (acquired from the Node-RED exported CSV) need to be converted properly in order to be comparable with the data frame's ones."
   ]
  },
  {
   "cell_type": "code",
   "execution_count": 129,
   "id": "69f095b2",
   "metadata": {
    "pycharm": {
     "name": "#%%\n"
    }
   },
   "outputs": [
    {
     "name": "stdout",
     "output_type": "stream",
     "text": [
      "Beginning of the acquisition process:  11:56:17.926000\n",
      "Person exists the frame:  12:16:11.263000\n",
      "End of the acquisition process:  12:35:51.788000\n"
     ]
    }
   ],
   "source": [
    "present = datetime.fromtimestamp(1655546177926/1000).time()\n",
    "end_present = datetime.fromtimestamp(1655547371263/1000).time()\n",
    "end = datetime.fromtimestamp(1655548551788/1000).time()\n",
    "\n",
    "print(\"Beginning of the acquisition process: \", present)\n",
    "print(\"Person exists the frame: \", end_present)\n",
    "print(\"End of the acquisition process: \", end)"
   ]
  },
  {
   "cell_type": "markdown",
   "id": "20a1397b",
   "metadata": {
    "pycharm": {
     "name": "#%% md\n"
    }
   },
   "source": [
    "### Re-sampling Data Frame ✂️"
   ]
  },
  {
   "cell_type": "markdown",
   "id": "b2ee935a",
   "metadata": {
    "pycharm": {
     "name": "#%% md\n"
    }
   },
   "source": [
    "Adding the ground truth to the data frame, based on previously acquired timestamps."
   ]
  },
  {
   "cell_type": "code",
   "execution_count": 130,
   "id": "221898ff",
   "metadata": {
    "pycharm": {
     "name": "#%%\n"
    }
   },
   "outputs": [],
   "source": [
    "result = df.loc[df['Time'].dt.time.between(present, end_present), 'Person'] = 1\n",
    "\n",
    "result = df.loc[df['Time'].dt.time.between(end_present, end), 'Person'] = 0"
   ]
  },
  {
   "cell_type": "markdown",
   "id": "06da596e",
   "metadata": {},
   "source": [
    "Removing rows before and after the acquisition process (since un-labelled)."
   ]
  },
  {
   "cell_type": "code",
   "execution_count": 131,
   "id": "f599e2ed",
   "metadata": {},
   "outputs": [],
   "source": [
    "df.dropna(subset = [\"Person\"], inplace=True)"
   ]
  },
  {
   "cell_type": "markdown",
   "id": "acb05588",
   "metadata": {},
   "source": [
    "Here the data frame is resampled every `FREQ` (100ms-900ms), grouping packets and extracting useful features per sample."
   ]
  },
  {
   "cell_type": "code",
   "execution_count": 132,
   "id": "6926cff1",
   "metadata": {},
   "outputs": [],
   "source": [
    "FREQ = '450ms'\n",
    "\n",
    "df = df.set_index('Time')"
   ]
  },
  {
   "cell_type": "markdown",
   "id": "f88cad80",
   "metadata": {
    "pycharm": {
     "name": "#%% md\n"
    }
   },
   "source": [
    "Generating new features from re-sampled groups 🎁"
   ]
  },
  {
   "cell_type": "code",
   "execution_count": 133,
   "id": "ad0b17f1",
   "metadata": {},
   "outputs": [],
   "source": [
    "df_resampled = df.groupby(pd.Grouper(freq=FREQ)).first()"
   ]
  },
  {
   "cell_type": "code",
   "execution_count": 134,
   "id": "bf6bfd11",
   "metadata": {},
   "outputs": [],
   "source": [
    "df_resampled['PacketNumber'] = df.groupby(pd.Grouper(freq=FREQ))['Source'].count()\n",
    "\n",
    "df_resampled['PacketIntervalAvg'] = 450/df_resampled['PacketNumber']\n",
    "\n",
    "df_resampled['PacketSizeAvg'] = df.groupby(pd.Grouper(freq=FREQ))['Length'].mean()\n",
    "\n",
    "df_resampled['PacketSizeStd'] = df.groupby(pd.Grouper(freq=FREQ))['Length'].std()\n",
    "\n",
    "df_resampled['PacketSizeMed'] = df.groupby(pd.Grouper(freq=FREQ))['Length'].median()\n",
    "\n",
    "df_resampled['PacketSizeMin'] = df.groupby(pd.Grouper(freq=FREQ))['Length'].min()\n",
    "\n",
    "df_resampled['PacketSizeMax'] = df.groupby(pd.Grouper(freq=FREQ))['Length'].max()\n",
    "\n",
    "df_resampled['InboundCount'] = df.groupby(pd.Grouper(freq=FREQ))['Direction'].apply(lambda x: (x=='Inbound').sum())\n",
    "\n",
    "df_resampled['OutboundCount'] = df.groupby(pd.Grouper(freq=FREQ))['Direction'].apply(lambda x: (x=='Outbound').sum())\n",
    "\n",
    "# df_resampled['InOutBoundRate'] = df_resampled['InboundCount']/df_resampled['OutboundCount']"
   ]
  },
  {
   "cell_type": "code",
   "execution_count": 135,
   "id": "b50e25b4",
   "metadata": {},
   "outputs": [
    {
     "data": {
      "text/html": [
       "<div>\n",
       "<style scoped>\n",
       "    .dataframe tbody tr th:only-of-type {\n",
       "        vertical-align: middle;\n",
       "    }\n",
       "\n",
       "    .dataframe tbody tr th {\n",
       "        vertical-align: top;\n",
       "    }\n",
       "\n",
       "    .dataframe thead th {\n",
       "        text-align: right;\n",
       "    }\n",
       "</style>\n",
       "<table border=\"1\" class=\"dataframe\">\n",
       "  <thead>\n",
       "    <tr style=\"text-align: right;\">\n",
       "      <th></th>\n",
       "      <th>Source</th>\n",
       "      <th>Destination</th>\n",
       "      <th>Protocol</th>\n",
       "      <th>Length</th>\n",
       "      <th>Direction</th>\n",
       "      <th>Person</th>\n",
       "      <th>PacketNumber</th>\n",
       "      <th>PacketIntervalAvg</th>\n",
       "      <th>PacketSizeAvg</th>\n",
       "      <th>PacketSizeStd</th>\n",
       "      <th>PacketSizeMed</th>\n",
       "      <th>PacketSizeMin</th>\n",
       "      <th>PacketSizeMax</th>\n",
       "      <th>InboundCount</th>\n",
       "      <th>OutboundCount</th>\n",
       "    </tr>\n",
       "    <tr>\n",
       "      <th>Time</th>\n",
       "      <th></th>\n",
       "      <th></th>\n",
       "      <th></th>\n",
       "      <th></th>\n",
       "      <th></th>\n",
       "      <th></th>\n",
       "      <th></th>\n",
       "      <th></th>\n",
       "      <th></th>\n",
       "      <th></th>\n",
       "      <th></th>\n",
       "      <th></th>\n",
       "      <th></th>\n",
       "      <th></th>\n",
       "      <th></th>\n",
       "    </tr>\n",
       "  </thead>\n",
       "  <tbody>\n",
       "    <tr>\n",
       "      <th>2022-06-29 11:56:17.700</th>\n",
       "      <td>149.137.12.48</td>\n",
       "      <td>192.168.178.69</td>\n",
       "      <td>17.0</td>\n",
       "      <td>1238.0</td>\n",
       "      <td>Inbound</td>\n",
       "      <td>1.0</td>\n",
       "      <td>52</td>\n",
       "      <td>8.653846</td>\n",
       "      <td>928.480769</td>\n",
       "      <td>346.259536</td>\n",
       "      <td>1008.0</td>\n",
       "      <td>66.0</td>\n",
       "      <td>1270.0</td>\n",
       "      <td>48</td>\n",
       "      <td>4</td>\n",
       "    </tr>\n",
       "    <tr>\n",
       "      <th>2022-06-29 11:56:18.150</th>\n",
       "      <td>149.137.12.48</td>\n",
       "      <td>192.168.178.69</td>\n",
       "      <td>6.0</td>\n",
       "      <td>66.0</td>\n",
       "      <td>Inbound</td>\n",
       "      <td>1.0</td>\n",
       "      <td>70</td>\n",
       "      <td>6.428571</td>\n",
       "      <td>990.585714</td>\n",
       "      <td>358.566530</td>\n",
       "      <td>1088.5</td>\n",
       "      <td>66.0</td>\n",
       "      <td>1321.0</td>\n",
       "      <td>65</td>\n",
       "      <td>5</td>\n",
       "    </tr>\n",
       "    <tr>\n",
       "      <th>2022-06-29 11:56:18.600</th>\n",
       "      <td>149.137.12.48</td>\n",
       "      <td>192.168.178.69</td>\n",
       "      <td>17.0</td>\n",
       "      <td>1088.0</td>\n",
       "      <td>Inbound</td>\n",
       "      <td>1.0</td>\n",
       "      <td>50</td>\n",
       "      <td>9.000000</td>\n",
       "      <td>957.440000</td>\n",
       "      <td>413.806430</td>\n",
       "      <td>1122.0</td>\n",
       "      <td>66.0</td>\n",
       "      <td>1287.0</td>\n",
       "      <td>45</td>\n",
       "      <td>5</td>\n",
       "    </tr>\n",
       "    <tr>\n",
       "      <th>2022-06-29 11:56:19.050</th>\n",
       "      <td>149.137.12.48</td>\n",
       "      <td>192.168.178.69</td>\n",
       "      <td>17.0</td>\n",
       "      <td>1087.0</td>\n",
       "      <td>Inbound</td>\n",
       "      <td>1.0</td>\n",
       "      <td>80</td>\n",
       "      <td>5.625000</td>\n",
       "      <td>892.975000</td>\n",
       "      <td>383.245995</td>\n",
       "      <td>1010.0</td>\n",
       "      <td>123.0</td>\n",
       "      <td>1296.0</td>\n",
       "      <td>73</td>\n",
       "      <td>7</td>\n",
       "    </tr>\n",
       "    <tr>\n",
       "      <th>2022-06-29 11:56:19.500</th>\n",
       "      <td>149.137.12.48</td>\n",
       "      <td>192.168.178.69</td>\n",
       "      <td>17.0</td>\n",
       "      <td>1217.0</td>\n",
       "      <td>Inbound</td>\n",
       "      <td>1.0</td>\n",
       "      <td>28</td>\n",
       "      <td>16.071429</td>\n",
       "      <td>1010.571429</td>\n",
       "      <td>215.669059</td>\n",
       "      <td>1061.0</td>\n",
       "      <td>120.0</td>\n",
       "      <td>1249.0</td>\n",
       "      <td>27</td>\n",
       "      <td>1</td>\n",
       "    </tr>\n",
       "    <tr>\n",
       "      <th>...</th>\n",
       "      <td>...</td>\n",
       "      <td>...</td>\n",
       "      <td>...</td>\n",
       "      <td>...</td>\n",
       "      <td>...</td>\n",
       "      <td>...</td>\n",
       "      <td>...</td>\n",
       "      <td>...</td>\n",
       "      <td>...</td>\n",
       "      <td>...</td>\n",
       "      <td>...</td>\n",
       "      <td>...</td>\n",
       "      <td>...</td>\n",
       "      <td>...</td>\n",
       "      <td>...</td>\n",
       "    </tr>\n",
       "    <tr>\n",
       "      <th>2022-06-29 12:35:49.650</th>\n",
       "      <td>149.137.12.48</td>\n",
       "      <td>192.168.178.69</td>\n",
       "      <td>17.0</td>\n",
       "      <td>284.0</td>\n",
       "      <td>Inbound</td>\n",
       "      <td>0.0</td>\n",
       "      <td>27</td>\n",
       "      <td>16.666667</td>\n",
       "      <td>535.333333</td>\n",
       "      <td>236.563701</td>\n",
       "      <td>523.0</td>\n",
       "      <td>94.0</td>\n",
       "      <td>1162.0</td>\n",
       "      <td>26</td>\n",
       "      <td>1</td>\n",
       "    </tr>\n",
       "    <tr>\n",
       "      <th>2022-06-29 12:35:50.100</th>\n",
       "      <td>149.137.12.48</td>\n",
       "      <td>192.168.178.69</td>\n",
       "      <td>17.0</td>\n",
       "      <td>704.0</td>\n",
       "      <td>Inbound</td>\n",
       "      <td>0.0</td>\n",
       "      <td>26</td>\n",
       "      <td>17.307692</td>\n",
       "      <td>603.115385</td>\n",
       "      <td>310.082225</td>\n",
       "      <td>496.5</td>\n",
       "      <td>117.0</td>\n",
       "      <td>1143.0</td>\n",
       "      <td>24</td>\n",
       "      <td>2</td>\n",
       "    </tr>\n",
       "    <tr>\n",
       "      <th>2022-06-29 12:35:50.550</th>\n",
       "      <td>149.137.12.48</td>\n",
       "      <td>192.168.178.69</td>\n",
       "      <td>17.0</td>\n",
       "      <td>787.0</td>\n",
       "      <td>Inbound</td>\n",
       "      <td>0.0</td>\n",
       "      <td>63</td>\n",
       "      <td>7.142857</td>\n",
       "      <td>1180.444444</td>\n",
       "      <td>214.563381</td>\n",
       "      <td>1260.0</td>\n",
       "      <td>116.0</td>\n",
       "      <td>1333.0</td>\n",
       "      <td>62</td>\n",
       "      <td>1</td>\n",
       "    </tr>\n",
       "    <tr>\n",
       "      <th>2022-06-29 12:35:51.000</th>\n",
       "      <td>149.137.12.48</td>\n",
       "      <td>192.168.178.69</td>\n",
       "      <td>17.0</td>\n",
       "      <td>1155.0</td>\n",
       "      <td>Inbound</td>\n",
       "      <td>0.0</td>\n",
       "      <td>54</td>\n",
       "      <td>8.333333</td>\n",
       "      <td>1119.907407</td>\n",
       "      <td>164.521406</td>\n",
       "      <td>1152.5</td>\n",
       "      <td>122.0</td>\n",
       "      <td>1297.0</td>\n",
       "      <td>53</td>\n",
       "      <td>1</td>\n",
       "    </tr>\n",
       "    <tr>\n",
       "      <th>2022-06-29 12:35:51.450</th>\n",
       "      <td>149.137.12.48</td>\n",
       "      <td>192.168.178.69</td>\n",
       "      <td>17.0</td>\n",
       "      <td>1086.0</td>\n",
       "      <td>Inbound</td>\n",
       "      <td>0.0</td>\n",
       "      <td>29</td>\n",
       "      <td>15.517241</td>\n",
       "      <td>1082.137931</td>\n",
       "      <td>195.076674</td>\n",
       "      <td>1086.0</td>\n",
       "      <td>121.0</td>\n",
       "      <td>1269.0</td>\n",
       "      <td>28</td>\n",
       "      <td>1</td>\n",
       "    </tr>\n",
       "  </tbody>\n",
       "</table>\n",
       "<p>5276 rows × 15 columns</p>\n",
       "</div>"
      ],
      "text/plain": [
       "                                Source     Destination  Protocol  Length  \\\n",
       "Time                                                                       \n",
       "2022-06-29 11:56:17.700  149.137.12.48  192.168.178.69      17.0  1238.0   \n",
       "2022-06-29 11:56:18.150  149.137.12.48  192.168.178.69       6.0    66.0   \n",
       "2022-06-29 11:56:18.600  149.137.12.48  192.168.178.69      17.0  1088.0   \n",
       "2022-06-29 11:56:19.050  149.137.12.48  192.168.178.69      17.0  1087.0   \n",
       "2022-06-29 11:56:19.500  149.137.12.48  192.168.178.69      17.0  1217.0   \n",
       "...                                ...             ...       ...     ...   \n",
       "2022-06-29 12:35:49.650  149.137.12.48  192.168.178.69      17.0   284.0   \n",
       "2022-06-29 12:35:50.100  149.137.12.48  192.168.178.69      17.0   704.0   \n",
       "2022-06-29 12:35:50.550  149.137.12.48  192.168.178.69      17.0   787.0   \n",
       "2022-06-29 12:35:51.000  149.137.12.48  192.168.178.69      17.0  1155.0   \n",
       "2022-06-29 12:35:51.450  149.137.12.48  192.168.178.69      17.0  1086.0   \n",
       "\n",
       "                        Direction  Person  PacketNumber  PacketIntervalAvg  \\\n",
       "Time                                                                         \n",
       "2022-06-29 11:56:17.700   Inbound     1.0            52           8.653846   \n",
       "2022-06-29 11:56:18.150   Inbound     1.0            70           6.428571   \n",
       "2022-06-29 11:56:18.600   Inbound     1.0            50           9.000000   \n",
       "2022-06-29 11:56:19.050   Inbound     1.0            80           5.625000   \n",
       "2022-06-29 11:56:19.500   Inbound     1.0            28          16.071429   \n",
       "...                           ...     ...           ...                ...   \n",
       "2022-06-29 12:35:49.650   Inbound     0.0            27          16.666667   \n",
       "2022-06-29 12:35:50.100   Inbound     0.0            26          17.307692   \n",
       "2022-06-29 12:35:50.550   Inbound     0.0            63           7.142857   \n",
       "2022-06-29 12:35:51.000   Inbound     0.0            54           8.333333   \n",
       "2022-06-29 12:35:51.450   Inbound     0.0            29          15.517241   \n",
       "\n",
       "                         PacketSizeAvg  PacketSizeStd  PacketSizeMed  \\\n",
       "Time                                                                   \n",
       "2022-06-29 11:56:17.700     928.480769     346.259536         1008.0   \n",
       "2022-06-29 11:56:18.150     990.585714     358.566530         1088.5   \n",
       "2022-06-29 11:56:18.600     957.440000     413.806430         1122.0   \n",
       "2022-06-29 11:56:19.050     892.975000     383.245995         1010.0   \n",
       "2022-06-29 11:56:19.500    1010.571429     215.669059         1061.0   \n",
       "...                                ...            ...            ...   \n",
       "2022-06-29 12:35:49.650     535.333333     236.563701          523.0   \n",
       "2022-06-29 12:35:50.100     603.115385     310.082225          496.5   \n",
       "2022-06-29 12:35:50.550    1180.444444     214.563381         1260.0   \n",
       "2022-06-29 12:35:51.000    1119.907407     164.521406         1152.5   \n",
       "2022-06-29 12:35:51.450    1082.137931     195.076674         1086.0   \n",
       "\n",
       "                         PacketSizeMin  PacketSizeMax  InboundCount  \\\n",
       "Time                                                                  \n",
       "2022-06-29 11:56:17.700           66.0         1270.0            48   \n",
       "2022-06-29 11:56:18.150           66.0         1321.0            65   \n",
       "2022-06-29 11:56:18.600           66.0         1287.0            45   \n",
       "2022-06-29 11:56:19.050          123.0         1296.0            73   \n",
       "2022-06-29 11:56:19.500          120.0         1249.0            27   \n",
       "...                                ...            ...           ...   \n",
       "2022-06-29 12:35:49.650           94.0         1162.0            26   \n",
       "2022-06-29 12:35:50.100          117.0         1143.0            24   \n",
       "2022-06-29 12:35:50.550          116.0         1333.0            62   \n",
       "2022-06-29 12:35:51.000          122.0         1297.0            53   \n",
       "2022-06-29 12:35:51.450          121.0         1269.0            28   \n",
       "\n",
       "                         OutboundCount  \n",
       "Time                                    \n",
       "2022-06-29 11:56:17.700              4  \n",
       "2022-06-29 11:56:18.150              5  \n",
       "2022-06-29 11:56:18.600              5  \n",
       "2022-06-29 11:56:19.050              7  \n",
       "2022-06-29 11:56:19.500              1  \n",
       "...                                ...  \n",
       "2022-06-29 12:35:49.650              1  \n",
       "2022-06-29 12:35:50.100              2  \n",
       "2022-06-29 12:35:50.550              1  \n",
       "2022-06-29 12:35:51.000              1  \n",
       "2022-06-29 12:35:51.450              1  \n",
       "\n",
       "[5276 rows x 15 columns]"
      ]
     },
     "execution_count": 135,
     "metadata": {},
     "output_type": "execute_result"
    }
   ],
   "source": [
    "df_resampled"
   ]
  },
  {
   "cell_type": "markdown",
   "id": "c6c801a1",
   "metadata": {
    "pycharm": {
     "name": "#%% md\n"
    }
   },
   "source": [
    "Removing old columns, that make no sense after the re-sampling."
   ]
  },
  {
   "cell_type": "code",
   "execution_count": 136,
   "id": "402759e7",
   "metadata": {
    "pycharm": {
     "name": "#%%\n"
    }
   },
   "outputs": [],
   "source": [
    "df_resampled.drop('Source',axis = 1,inplace= True)\n",
    "\n",
    "df_resampled.drop('Destination',axis = 1,inplace= True)\n",
    "\n",
    "df_resampled.drop('Protocol',axis = 1,inplace= True)\n",
    "\n",
    "df_resampled.drop('Length',axis = 1,inplace= True)\n",
    "\n",
    "df_resampled.drop('Direction',axis = 1,inplace= True)"
   ]
  },
  {
   "cell_type": "markdown",
   "id": "760117bc",
   "metadata": {
    "pycharm": {
     "name": "#%% md\n"
    }
   },
   "source": [
    "Removing NaN values from data frame."
   ]
  },
  {
   "cell_type": "code",
   "execution_count": 137,
   "id": "ac105266",
   "metadata": {
    "pycharm": {
     "name": "#%%\n"
    }
   },
   "outputs": [
    {
     "data": {
      "text/html": [
       "<div>\n",
       "<style scoped>\n",
       "    .dataframe tbody tr th:only-of-type {\n",
       "        vertical-align: middle;\n",
       "    }\n",
       "\n",
       "    .dataframe tbody tr th {\n",
       "        vertical-align: top;\n",
       "    }\n",
       "\n",
       "    .dataframe thead th {\n",
       "        text-align: right;\n",
       "    }\n",
       "</style>\n",
       "<table border=\"1\" class=\"dataframe\">\n",
       "  <thead>\n",
       "    <tr style=\"text-align: right;\">\n",
       "      <th></th>\n",
       "      <th>Person</th>\n",
       "      <th>PacketNumber</th>\n",
       "      <th>PacketIntervalAvg</th>\n",
       "      <th>PacketSizeAvg</th>\n",
       "      <th>PacketSizeStd</th>\n",
       "      <th>PacketSizeMed</th>\n",
       "      <th>PacketSizeMin</th>\n",
       "      <th>PacketSizeMax</th>\n",
       "      <th>InboundCount</th>\n",
       "      <th>OutboundCount</th>\n",
       "    </tr>\n",
       "    <tr>\n",
       "      <th>Time</th>\n",
       "      <th></th>\n",
       "      <th></th>\n",
       "      <th></th>\n",
       "      <th></th>\n",
       "      <th></th>\n",
       "      <th></th>\n",
       "      <th></th>\n",
       "      <th></th>\n",
       "      <th></th>\n",
       "      <th></th>\n",
       "    </tr>\n",
       "  </thead>\n",
       "  <tbody>\n",
       "    <tr>\n",
       "      <th>2022-06-29 11:56:17.700</th>\n",
       "      <td>1.0</td>\n",
       "      <td>52</td>\n",
       "      <td>8.653846</td>\n",
       "      <td>928.480769</td>\n",
       "      <td>346.259536</td>\n",
       "      <td>1008.0</td>\n",
       "      <td>66.0</td>\n",
       "      <td>1270.0</td>\n",
       "      <td>48</td>\n",
       "      <td>4</td>\n",
       "    </tr>\n",
       "    <tr>\n",
       "      <th>2022-06-29 11:56:18.150</th>\n",
       "      <td>1.0</td>\n",
       "      <td>70</td>\n",
       "      <td>6.428571</td>\n",
       "      <td>990.585714</td>\n",
       "      <td>358.566530</td>\n",
       "      <td>1088.5</td>\n",
       "      <td>66.0</td>\n",
       "      <td>1321.0</td>\n",
       "      <td>65</td>\n",
       "      <td>5</td>\n",
       "    </tr>\n",
       "    <tr>\n",
       "      <th>2022-06-29 11:56:18.600</th>\n",
       "      <td>1.0</td>\n",
       "      <td>50</td>\n",
       "      <td>9.000000</td>\n",
       "      <td>957.440000</td>\n",
       "      <td>413.806430</td>\n",
       "      <td>1122.0</td>\n",
       "      <td>66.0</td>\n",
       "      <td>1287.0</td>\n",
       "      <td>45</td>\n",
       "      <td>5</td>\n",
       "    </tr>\n",
       "    <tr>\n",
       "      <th>2022-06-29 11:56:19.050</th>\n",
       "      <td>1.0</td>\n",
       "      <td>80</td>\n",
       "      <td>5.625000</td>\n",
       "      <td>892.975000</td>\n",
       "      <td>383.245995</td>\n",
       "      <td>1010.0</td>\n",
       "      <td>123.0</td>\n",
       "      <td>1296.0</td>\n",
       "      <td>73</td>\n",
       "      <td>7</td>\n",
       "    </tr>\n",
       "    <tr>\n",
       "      <th>2022-06-29 11:56:19.500</th>\n",
       "      <td>1.0</td>\n",
       "      <td>28</td>\n",
       "      <td>16.071429</td>\n",
       "      <td>1010.571429</td>\n",
       "      <td>215.669059</td>\n",
       "      <td>1061.0</td>\n",
       "      <td>120.0</td>\n",
       "      <td>1249.0</td>\n",
       "      <td>27</td>\n",
       "      <td>1</td>\n",
       "    </tr>\n",
       "    <tr>\n",
       "      <th>...</th>\n",
       "      <td>...</td>\n",
       "      <td>...</td>\n",
       "      <td>...</td>\n",
       "      <td>...</td>\n",
       "      <td>...</td>\n",
       "      <td>...</td>\n",
       "      <td>...</td>\n",
       "      <td>...</td>\n",
       "      <td>...</td>\n",
       "      <td>...</td>\n",
       "    </tr>\n",
       "    <tr>\n",
       "      <th>2022-06-29 12:35:49.650</th>\n",
       "      <td>0.0</td>\n",
       "      <td>27</td>\n",
       "      <td>16.666667</td>\n",
       "      <td>535.333333</td>\n",
       "      <td>236.563701</td>\n",
       "      <td>523.0</td>\n",
       "      <td>94.0</td>\n",
       "      <td>1162.0</td>\n",
       "      <td>26</td>\n",
       "      <td>1</td>\n",
       "    </tr>\n",
       "    <tr>\n",
       "      <th>2022-06-29 12:35:50.100</th>\n",
       "      <td>0.0</td>\n",
       "      <td>26</td>\n",
       "      <td>17.307692</td>\n",
       "      <td>603.115385</td>\n",
       "      <td>310.082225</td>\n",
       "      <td>496.5</td>\n",
       "      <td>117.0</td>\n",
       "      <td>1143.0</td>\n",
       "      <td>24</td>\n",
       "      <td>2</td>\n",
       "    </tr>\n",
       "    <tr>\n",
       "      <th>2022-06-29 12:35:50.550</th>\n",
       "      <td>0.0</td>\n",
       "      <td>63</td>\n",
       "      <td>7.142857</td>\n",
       "      <td>1180.444444</td>\n",
       "      <td>214.563381</td>\n",
       "      <td>1260.0</td>\n",
       "      <td>116.0</td>\n",
       "      <td>1333.0</td>\n",
       "      <td>62</td>\n",
       "      <td>1</td>\n",
       "    </tr>\n",
       "    <tr>\n",
       "      <th>2022-06-29 12:35:51.000</th>\n",
       "      <td>0.0</td>\n",
       "      <td>54</td>\n",
       "      <td>8.333333</td>\n",
       "      <td>1119.907407</td>\n",
       "      <td>164.521406</td>\n",
       "      <td>1152.5</td>\n",
       "      <td>122.0</td>\n",
       "      <td>1297.0</td>\n",
       "      <td>53</td>\n",
       "      <td>1</td>\n",
       "    </tr>\n",
       "    <tr>\n",
       "      <th>2022-06-29 12:35:51.450</th>\n",
       "      <td>0.0</td>\n",
       "      <td>29</td>\n",
       "      <td>15.517241</td>\n",
       "      <td>1082.137931</td>\n",
       "      <td>195.076674</td>\n",
       "      <td>1086.0</td>\n",
       "      <td>121.0</td>\n",
       "      <td>1269.0</td>\n",
       "      <td>28</td>\n",
       "      <td>1</td>\n",
       "    </tr>\n",
       "  </tbody>\n",
       "</table>\n",
       "<p>5233 rows × 10 columns</p>\n",
       "</div>"
      ],
      "text/plain": [
       "                         Person  PacketNumber  PacketIntervalAvg  \\\n",
       "Time                                                               \n",
       "2022-06-29 11:56:17.700     1.0            52           8.653846   \n",
       "2022-06-29 11:56:18.150     1.0            70           6.428571   \n",
       "2022-06-29 11:56:18.600     1.0            50           9.000000   \n",
       "2022-06-29 11:56:19.050     1.0            80           5.625000   \n",
       "2022-06-29 11:56:19.500     1.0            28          16.071429   \n",
       "...                         ...           ...                ...   \n",
       "2022-06-29 12:35:49.650     0.0            27          16.666667   \n",
       "2022-06-29 12:35:50.100     0.0            26          17.307692   \n",
       "2022-06-29 12:35:50.550     0.0            63           7.142857   \n",
       "2022-06-29 12:35:51.000     0.0            54           8.333333   \n",
       "2022-06-29 12:35:51.450     0.0            29          15.517241   \n",
       "\n",
       "                         PacketSizeAvg  PacketSizeStd  PacketSizeMed  \\\n",
       "Time                                                                   \n",
       "2022-06-29 11:56:17.700     928.480769     346.259536         1008.0   \n",
       "2022-06-29 11:56:18.150     990.585714     358.566530         1088.5   \n",
       "2022-06-29 11:56:18.600     957.440000     413.806430         1122.0   \n",
       "2022-06-29 11:56:19.050     892.975000     383.245995         1010.0   \n",
       "2022-06-29 11:56:19.500    1010.571429     215.669059         1061.0   \n",
       "...                                ...            ...            ...   \n",
       "2022-06-29 12:35:49.650     535.333333     236.563701          523.0   \n",
       "2022-06-29 12:35:50.100     603.115385     310.082225          496.5   \n",
       "2022-06-29 12:35:50.550    1180.444444     214.563381         1260.0   \n",
       "2022-06-29 12:35:51.000    1119.907407     164.521406         1152.5   \n",
       "2022-06-29 12:35:51.450    1082.137931     195.076674         1086.0   \n",
       "\n",
       "                         PacketSizeMin  PacketSizeMax  InboundCount  \\\n",
       "Time                                                                  \n",
       "2022-06-29 11:56:17.700           66.0         1270.0            48   \n",
       "2022-06-29 11:56:18.150           66.0         1321.0            65   \n",
       "2022-06-29 11:56:18.600           66.0         1287.0            45   \n",
       "2022-06-29 11:56:19.050          123.0         1296.0            73   \n",
       "2022-06-29 11:56:19.500          120.0         1249.0            27   \n",
       "...                                ...            ...           ...   \n",
       "2022-06-29 12:35:49.650           94.0         1162.0            26   \n",
       "2022-06-29 12:35:50.100          117.0         1143.0            24   \n",
       "2022-06-29 12:35:50.550          116.0         1333.0            62   \n",
       "2022-06-29 12:35:51.000          122.0         1297.0            53   \n",
       "2022-06-29 12:35:51.450          121.0         1269.0            28   \n",
       "\n",
       "                         OutboundCount  \n",
       "Time                                    \n",
       "2022-06-29 11:56:17.700              4  \n",
       "2022-06-29 11:56:18.150              5  \n",
       "2022-06-29 11:56:18.600              5  \n",
       "2022-06-29 11:56:19.050              7  \n",
       "2022-06-29 11:56:19.500              1  \n",
       "...                                ...  \n",
       "2022-06-29 12:35:49.650              1  \n",
       "2022-06-29 12:35:50.100              2  \n",
       "2022-06-29 12:35:50.550              1  \n",
       "2022-06-29 12:35:51.000              1  \n",
       "2022-06-29 12:35:51.450              1  \n",
       "\n",
       "[5233 rows x 10 columns]"
      ]
     },
     "execution_count": 137,
     "metadata": {},
     "output_type": "execute_result"
    }
   ],
   "source": [
    "df_resampled = df_resampled.dropna()\n",
    "df_resampled"
   ]
  },
  {
   "cell_type": "markdown",
   "id": "24c65b61",
   "metadata": {
    "pycharm": {
     "name": "#%% md\n"
    }
   },
   "source": [
    "## Data Frame Visualization 📊"
   ]
  },
  {
   "cell_type": "markdown",
   "id": "4dfe347c",
   "metadata": {
    "pycharm": {
     "name": "#%% md\n"
    }
   },
   "source": [
    "Print statistics about each row."
   ]
  },
  {
   "cell_type": "code",
   "execution_count": 138,
   "id": "93a12f55",
   "metadata": {
    "pycharm": {
     "name": "#%%\n"
    }
   },
   "outputs": [
    {
     "data": {
      "text/html": [
       "<div>\n",
       "<style scoped>\n",
       "    .dataframe tbody tr th:only-of-type {\n",
       "        vertical-align: middle;\n",
       "    }\n",
       "\n",
       "    .dataframe tbody tr th {\n",
       "        vertical-align: top;\n",
       "    }\n",
       "\n",
       "    .dataframe thead th {\n",
       "        text-align: right;\n",
       "    }\n",
       "</style>\n",
       "<table border=\"1\" class=\"dataframe\">\n",
       "  <thead>\n",
       "    <tr style=\"text-align: right;\">\n",
       "      <th></th>\n",
       "      <th>count</th>\n",
       "      <th>mean</th>\n",
       "      <th>std</th>\n",
       "      <th>min</th>\n",
       "      <th>25%</th>\n",
       "      <th>50%</th>\n",
       "      <th>75%</th>\n",
       "      <th>max</th>\n",
       "    </tr>\n",
       "  </thead>\n",
       "  <tbody>\n",
       "    <tr>\n",
       "      <th>Person</th>\n",
       "      <td>5233.0</td>\n",
       "      <td>0.505255</td>\n",
       "      <td>0.500020</td>\n",
       "      <td>0.000000</td>\n",
       "      <td>0.000000</td>\n",
       "      <td>1.000000</td>\n",
       "      <td>1.000000</td>\n",
       "      <td>1.000000</td>\n",
       "    </tr>\n",
       "    <tr>\n",
       "      <th>PacketNumber</th>\n",
       "      <td>5233.0</td>\n",
       "      <td>36.650869</td>\n",
       "      <td>24.966878</td>\n",
       "      <td>2.000000</td>\n",
       "      <td>15.000000</td>\n",
       "      <td>29.000000</td>\n",
       "      <td>56.000000</td>\n",
       "      <td>202.000000</td>\n",
       "    </tr>\n",
       "    <tr>\n",
       "      <th>PacketIntervalAvg</th>\n",
       "      <td>5233.0</td>\n",
       "      <td>21.121746</td>\n",
       "      <td>23.119388</td>\n",
       "      <td>2.227723</td>\n",
       "      <td>8.035714</td>\n",
       "      <td>15.517241</td>\n",
       "      <td>30.000000</td>\n",
       "      <td>225.000000</td>\n",
       "    </tr>\n",
       "    <tr>\n",
       "      <th>PacketSizeAvg</th>\n",
       "      <td>5233.0</td>\n",
       "      <td>590.936446</td>\n",
       "      <td>423.388374</td>\n",
       "      <td>88.500000</td>\n",
       "      <td>169.066667</td>\n",
       "      <td>471.136364</td>\n",
       "      <td>1045.125000</td>\n",
       "      <td>1240.000000</td>\n",
       "    </tr>\n",
       "    <tr>\n",
       "      <th>PacketSizeStd</th>\n",
       "      <td>5233.0</td>\n",
       "      <td>155.874179</td>\n",
       "      <td>135.077832</td>\n",
       "      <td>0.000000</td>\n",
       "      <td>32.587890</td>\n",
       "      <td>140.917873</td>\n",
       "      <td>247.752622</td>\n",
       "      <td>564.140183</td>\n",
       "    </tr>\n",
       "    <tr>\n",
       "      <th>PacketSizeMed</th>\n",
       "      <td>5233.0</td>\n",
       "      <td>626.331836</td>\n",
       "      <td>459.542151</td>\n",
       "      <td>88.500000</td>\n",
       "      <td>169.500000</td>\n",
       "      <td>474.000000</td>\n",
       "      <td>1117.500000</td>\n",
       "      <td>1271.000000</td>\n",
       "    </tr>\n",
       "    <tr>\n",
       "      <th>PacketSizeMin</th>\n",
       "      <td>5233.0</td>\n",
       "      <td>113.889165</td>\n",
       "      <td>101.579923</td>\n",
       "      <td>66.000000</td>\n",
       "      <td>66.000000</td>\n",
       "      <td>116.000000</td>\n",
       "      <td>118.000000</td>\n",
       "      <td>1195.000000</td>\n",
       "    </tr>\n",
       "    <tr>\n",
       "      <th>PacketSizeMax</th>\n",
       "      <td>5233.0</td>\n",
       "      <td>772.421556</td>\n",
       "      <td>511.996002</td>\n",
       "      <td>111.000000</td>\n",
       "      <td>215.000000</td>\n",
       "      <td>939.000000</td>\n",
       "      <td>1289.000000</td>\n",
       "      <td>1339.000000</td>\n",
       "    </tr>\n",
       "    <tr>\n",
       "      <th>InboundCount</th>\n",
       "      <td>5233.0</td>\n",
       "      <td>33.816358</td>\n",
       "      <td>24.450758</td>\n",
       "      <td>2.000000</td>\n",
       "      <td>14.000000</td>\n",
       "      <td>23.000000</td>\n",
       "      <td>54.000000</td>\n",
       "      <td>196.000000</td>\n",
       "    </tr>\n",
       "    <tr>\n",
       "      <th>OutboundCount</th>\n",
       "      <td>5233.0</td>\n",
       "      <td>2.834512</td>\n",
       "      <td>2.865442</td>\n",
       "      <td>0.000000</td>\n",
       "      <td>1.000000</td>\n",
       "      <td>1.000000</td>\n",
       "      <td>4.000000</td>\n",
       "      <td>18.000000</td>\n",
       "    </tr>\n",
       "  </tbody>\n",
       "</table>\n",
       "</div>"
      ],
      "text/plain": [
       "                    count        mean         std         min         25%  \\\n",
       "Person             5233.0    0.505255    0.500020    0.000000    0.000000   \n",
       "PacketNumber       5233.0   36.650869   24.966878    2.000000   15.000000   \n",
       "PacketIntervalAvg  5233.0   21.121746   23.119388    2.227723    8.035714   \n",
       "PacketSizeAvg      5233.0  590.936446  423.388374   88.500000  169.066667   \n",
       "PacketSizeStd      5233.0  155.874179  135.077832    0.000000   32.587890   \n",
       "PacketSizeMed      5233.0  626.331836  459.542151   88.500000  169.500000   \n",
       "PacketSizeMin      5233.0  113.889165  101.579923   66.000000   66.000000   \n",
       "PacketSizeMax      5233.0  772.421556  511.996002  111.000000  215.000000   \n",
       "InboundCount       5233.0   33.816358   24.450758    2.000000   14.000000   \n",
       "OutboundCount      5233.0    2.834512    2.865442    0.000000    1.000000   \n",
       "\n",
       "                          50%          75%          max  \n",
       "Person               1.000000     1.000000     1.000000  \n",
       "PacketNumber        29.000000    56.000000   202.000000  \n",
       "PacketIntervalAvg   15.517241    30.000000   225.000000  \n",
       "PacketSizeAvg      471.136364  1045.125000  1240.000000  \n",
       "PacketSizeStd      140.917873   247.752622   564.140183  \n",
       "PacketSizeMed      474.000000  1117.500000  1271.000000  \n",
       "PacketSizeMin      116.000000   118.000000  1195.000000  \n",
       "PacketSizeMax      939.000000  1289.000000  1339.000000  \n",
       "InboundCount        23.000000    54.000000   196.000000  \n",
       "OutboundCount        1.000000     4.000000    18.000000  "
      ]
     },
     "execution_count": 138,
     "metadata": {},
     "output_type": "execute_result"
    }
   ],
   "source": [
    "df_resampled.describe().transpose()"
   ]
  },
  {
   "cell_type": "markdown",
   "id": "80a1b429",
   "metadata": {
    "pycharm": {
     "name": "#%% md\n"
    }
   },
   "source": [
    "List the columns we can plot."
   ]
  },
  {
   "cell_type": "code",
   "execution_count": 139,
   "id": "007eea03",
   "metadata": {
    "pycharm": {
     "name": "#%%\n"
    }
   },
   "outputs": [
    {
     "name": "stdout",
     "output_type": "stream",
     "text": [
      "['Person', 'PacketNumber', 'PacketIntervalAvg', 'PacketSizeAvg', 'PacketSizeStd', 'PacketSizeMed', 'PacketSizeMin', 'PacketSizeMax', 'InboundCount', 'OutboundCount']\n"
     ]
    }
   ],
   "source": [
    "print(df_resampled.columns.tolist())"
   ]
  },
  {
   "cell_type": "markdown",
   "id": "74857207",
   "metadata": {
    "pycharm": {
     "name": "#%% md\n"
    }
   },
   "source": [
    "Visualization of the number of packages per sample, along with the ground truth."
   ]
  },
  {
   "cell_type": "code",
   "execution_count": 140,
   "id": "34a05636",
   "metadata": {
    "pycharm": {
     "name": "#%%\n"
    }
   },
   "outputs": [
    {
     "data": {
      "image/png": "[encoded data removed]",
      "text/plain": [
       "<Figure size 1080x504 with 2 Axes>"
      ]
     },
     "metadata": {},
     "output_type": "display_data"
    }
   ],
   "source": [
    "fig, ax1 = plt.subplots(figsize=(15,7))\n",
    "\n",
    "color = '#6A67CE'\n",
    "ax1.set_ylabel('Number of Packets per Sample', color=color)\n",
    "ax1.plot(df_resampled['PacketNumber'], color=color)\n",
    "ax1.tick_params(axis='y', labelcolor=color)\n",
    "\n",
    "ax2 = ax1.twinx()  # instantiate a second axes that shares the same x-axis\n",
    "\n",
    "color = '#FF6FB5'\n",
    "ax2.set_ylabel('Person', color=color)  # we already handled the x-label with ax1\n",
    "ax2.plot(df_resampled['Person'], color=color)\n",
    "ax2.tick_params(axis='y', labelcolor=color)\n",
    "\n",
    "fig.tight_layout()  # otherwise the right y-label is slightly clipped\n",
    "plt.show()"
   ]
  },
  {
   "cell_type": "markdown",
   "id": "28c7d3b5",
   "metadata": {
    "pycharm": {
     "name": "#%% md\n"
    }
   },
   "source": [
    "Graphical Visualization of average time between packets over time."
   ]
  },
  {
   "cell_type": "code",
   "execution_count": 141,
   "id": "5e5f5eb3",
   "metadata": {
    "pycharm": {
     "name": "#%%\n"
    }
   },
   "outputs": [
    {
     "data": {
      "image/png": "[encoded data removed]",
      "text/plain": [
       "<Figure size 1080x504 with 2 Axes>"
      ]
     },
     "metadata": {},
     "output_type": "display_data"
    }
   ],
   "source": [
    "fig, ax1 = plt.subplots(figsize=(15,7))\n",
    "\n",
    "color = '#6A67CE'\n",
    "ax1.set_ylabel('Average Time Between Packers', color=color)\n",
    "ax1.plot(df_resampled['PacketIntervalAvg'], color=color)\n",
    "ax1.tick_params(axis='y', labelcolor=color)\n",
    "\n",
    "ax2 = ax1.twinx()  # instantiate a second axes that shares the same x-axis\n",
    "\n",
    "color = '#FF6FB5'\n",
    "ax2.set_ylabel('Person', color=color)  # we already handled the x-label with ax1\n",
    "ax2.plot(df_resampled['Person'], color=color)\n",
    "ax2.tick_params(axis='y', labelcolor=color)\n",
    "\n",
    "fig.tight_layout()  # otherwise the right y-label is slightly clipped\n",
    "plt.show()"
   ]
  },
  {
   "cell_type": "markdown",
   "id": "f2f13777",
   "metadata": {
    "pycharm": {
     "name": "#%% md\n"
    }
   },
   "source": [
    "Plot the average packet size per sample, over time."
   ]
  },
  {
   "cell_type": "code",
   "execution_count": 142,
   "id": "d4e5c891",
   "metadata": {
    "pycharm": {
     "name": "#%%\n"
    }
   },
   "outputs": [
    {
     "data": {
      "image/png": "[encoded data removed]",
      "text/plain": [
       "<Figure size 1080x504 with 2 Axes>"
      ]
     },
     "metadata": {},
     "output_type": "display_data"
    }
   ],
   "source": [
    "fig, ax1 = plt.subplots(figsize=(15,7))\n",
    "\n",
    "color = '#6A67CE'\n",
    "ax1.set_ylabel('Average Packet Size', color=color)\n",
    "ax1.plot(df_resampled['PacketSizeAvg'], color=color)\n",
    "ax1.tick_params(axis='y', labelcolor=color)\n",
    "\n",
    "ax2 = ax1.twinx()  # instantiate a second axes that shares the same x-axis\n",
    "\n",
    "color = '#FF6FB5'\n",
    "ax2.set_ylabel('Person', color=color)  # we already handled the x-label with ax1\n",
    "ax2.plot(df_resampled['Person'], color=color)\n",
    "ax2.tick_params(axis='y', labelcolor=color)\n",
    "\n",
    "fig.tight_layout()  # otherwise the right y-label is slightly clipped\n",
    "plt.show()"
   ]
  },
  {
   "cell_type": "markdown",
   "id": "9a85fe4f",
   "metadata": {
    "pycharm": {
     "name": "#%% md\n"
    }
   },
   "source": [
    "Plot the comparison between outbound traffic and inbound traffic over time."
   ]
  },
  {
   "cell_type": "code",
   "execution_count": 143,
   "id": "8eb1b955",
   "metadata": {
    "pycharm": {
     "name": "#%%\n"
    }
   },
   "outputs": [
    {
     "data": {
      "text/plain": [
       "<AxesSubplot:xlabel='Time'>"
      ]
     },
     "execution_count": 143,
     "metadata": {},
     "output_type": "execute_result"
    },
    {
     "data": {
      "image/png": "[encoded data removed]",
      "text/plain": [
       "<Figure size 1224x648 with 1 Axes>"
      ]
     },
     "metadata": {
      "needs_background": "light"
     },
     "output_type": "display_data"
    }
   ],
   "source": [
    "ax = df_resampled.plot(y='InboundCount', figsize=(17,9), color='#6A67CE')\n",
    "\n",
    "df_resampled.plot(y='OutboundCount', color='#55D8C1', ax=ax)"
   ]
  },
  {
   "cell_type": "markdown",
   "id": "7c07321f",
   "metadata": {
    "pycharm": {
     "name": "#%% md\n"
    }
   },
   "source": [
    "Visualization of the difference between inbound traffic with and without the target in frame."
   ]
  },
  {
   "cell_type": "code",
   "execution_count": 144,
   "id": "33bd52e9",
   "metadata": {
    "pycharm": {
     "name": "#%%\n"
    }
   },
   "outputs": [
    {
     "data": {
      "image/png": "[encoded data removed]",
      "text/plain": [
       "<Figure size 1080x504 with 2 Axes>"
      ]
     },
     "metadata": {},
     "output_type": "display_data"
    }
   ],
   "source": [
    "fig, ax1 = plt.subplots(figsize=(15,7))\n",
    "\n",
    "color = '#6A67CE'\n",
    "ax1.set_ylabel('Inbound Traffic', color=color)\n",
    "ax1.plot(df_resampled['InboundCount'], color=color)\n",
    "ax1.tick_params(axis='y', labelcolor=color)\n",
    "\n",
    "ax2 = ax1.twinx()  # instantiate a second axes that shares the same x-axis\n",
    "\n",
    "color = '#FF6FB5'\n",
    "ax2.set_ylabel('Person', color=color)  # we already handled the x-label with ax1\n",
    "ax2.plot(df_resampled['Person'], color=color)\n",
    "ax2.tick_params(axis='y', labelcolor=color)\n",
    "\n",
    "fig.tight_layout()  # otherwise the right y-label is slightly clipped\n",
    "plt.show()"
   ]
  },
  {
   "cell_type": "markdown",
   "id": "716d5a87",
   "metadata": {
    "pycharm": {
     "name": "#%% md\n"
    }
   },
   "source": [
    "Visualizing different features in one single place, along with the ground truth."
   ]
  },
  {
   "cell_type": "code",
   "execution_count": 145,
   "id": "b3e38872",
   "metadata": {
    "pycharm": {
     "name": "#%%\n"
    }
   },
   "outputs": [
    {
     "data": {
      "image/png": "[encoded data removed]",
      "text/plain": [
       "<Figure size 1080x504 with 4 Axes>"
      ]
     },
     "metadata": {
      "needs_background": "light"
     },
     "output_type": "display_data"
    }
   ],
   "source": [
    "fig, ax1 = plt.subplots(figsize=(15,7))\n",
    "\n",
    "color = '#C6DCE4'\n",
    "ax1.plot(df_resampled['PacketIntervalAvg'], color=color)\n",
    "\n",
    "ax2 = ax1.twinx()  # instantiate a second axes that shares the same x-axis\n",
    "\n",
    "color = '#FF6FB5'\n",
    "ax2.plot(df_resampled['Person'], color=color)\n",
    "\n",
    "ax3 = ax1.twinx()  # instantiate a second axes that shares the same x-axis\n",
    "\n",
    "color = '#C6DCE4'\n",
    "ax3.plot(df_resampled['PacketSizeAvg'], color=color)\n",
    "\n",
    "ax4 = ax1.twinx()  # instantiate a second axes that shares the same x-axis\n",
    "\n",
    "color = '#C6DCE4'\n",
    "ax4.plot(df_resampled['PacketNumber'], color=color)\n",
    "\n",
    "fig.tight_layout()  # otherwise the right y-label is slightly clipped\n",
    "plt.show()"
   ]
  },
  {
   "cell_type": "markdown",
   "id": "f77998d2",
   "metadata": {
    "pycharm": {
     "name": "#%% md\n"
    }
   },
   "source": [
    "## Data Frame Splitting 🔪"
   ]
  },
  {
   "cell_type": "markdown",
   "id": "cc11403a",
   "metadata": {
    "pycharm": {
     "name": "#%% md\n"
    }
   },
   "source": [
    "Splitting the data frame is necessary to test the model accuracy."
   ]
  },
  {
   "cell_type": "code",
   "execution_count": 146,
   "id": "3bb29da7",
   "metadata": {
    "pycharm": {
     "name": "#%%\n"
    }
   },
   "outputs": [],
   "source": [
    "X = df_resampled.drop('Person', axis=1)\n",
    "Y = df_resampled['Person']\n",
    "\n",
    "x_train, x_temp, y_train, y_temp = train_test_split(X, Y, test_size=0.4, stratify=Y)\n",
    "x_test, x_validate, y_test, y_validate = train_test_split(x_temp, y_temp, test_size=0.5, stratify=y_temp)"
   ]
  },
  {
   "cell_type": "markdown",
   "id": "233180dc",
   "metadata": {
    "pycharm": {
     "name": "#%% md\n"
    }
   },
   "source": [
    "### Data Frame Normalization 🚸"
   ]
  },
  {
   "cell_type": "code",
   "execution_count": 147,
   "id": "d2c9a6fc",
   "metadata": {
    "pycharm": {
     "name": "#%%\n"
    }
   },
   "outputs": [
    {
     "name": "stdout",
     "output_type": "stream",
     "text": [
      "<class 'pandas.core.frame.DataFrame'>\n",
      "DatetimeIndex: 5233 entries, 2022-06-29 11:56:17.700000 to 2022-06-29 12:35:51.450000\n",
      "Data columns (total 10 columns):\n",
      " #   Column             Non-Null Count  Dtype  \n",
      "---  ------             --------------  -----  \n",
      " 0   Person             5233 non-null   float64\n",
      " 1   PacketNumber       5233 non-null   int64  \n",
      " 2   PacketIntervalAvg  5233 non-null   float64\n",
      " 3   PacketSizeAvg      5233 non-null   float64\n",
      " 4   PacketSizeStd      5233 non-null   float64\n",
      " 5   PacketSizeMed      5233 non-null   float64\n",
      " 6   PacketSizeMin      5233 non-null   float64\n",
      " 7   PacketSizeMax      5233 non-null   float64\n",
      " 8   InboundCount       5233 non-null   int64  \n",
      " 9   OutboundCount      5233 non-null   int64  \n",
      "dtypes: float64(7), int64(3)\n",
      "memory usage: 449.7 KB\n"
     ]
    }
   ],
   "source": [
    "df_resampled.info()"
   ]
  },
  {
   "cell_type": "code",
   "execution_count": 148,
   "id": "98904f9f",
   "metadata": {
    "pycharm": {
     "name": "#%%\n"
    }
   },
   "outputs": [],
   "source": [
    "# Replacing Inf values with NaN\n",
    "df_resampled = df_resampled.replace([np.inf, -np.inf], np.nan)\n",
    "\n",
    "# Dropping all occurrences of NaN\n",
    "df_resampled = df_resampled.dropna()"
   ]
  },
  {
   "cell_type": "markdown",
   "id": "ed7c223d",
   "metadata": {
    "pycharm": {
     "name": "#%% md\n"
    }
   },
   "source": [
    "Normalize the data frame's values"
   ]
  },
  {
   "cell_type": "code",
   "execution_count": 149,
   "id": "463ba5f3",
   "metadata": {
    "pycharm": {
     "name": "#%%\n"
    }
   },
   "outputs": [
    {
     "data": {
      "text/plain": [
       "count    28251.000000\n",
       "mean         0.262596\n",
       "std          0.309706\n",
       "min          0.000000\n",
       "25%          0.056701\n",
       "50%          0.091000\n",
       "75%          0.341411\n",
       "max          1.000000\n",
       "dtype: float64"
      ]
     },
     "execution_count": 149,
     "metadata": {},
     "output_type": "execute_result"
    }
   ],
   "source": [
    "# Normalize\n",
    "min_max_scaler = MinMaxScaler().fit(x_train)\n",
    "\n",
    "# Apply normalization to dataset\n",
    "x_train = min_max_scaler.transform(x_train)\n",
    "x_validate = min_max_scaler.transform(x_validate)\n",
    "x_test = min_max_scaler.transform(x_test)\n",
    "\n",
    "# All values between 0 and 1\n",
    "pd.Series(x_train.flatten()).describe()"
   ]
  },
  {
   "cell_type": "markdown",
   "id": "038d142c",
   "metadata": {
    "pycharm": {
     "name": "#%% md\n"
    }
   },
   "source": [
    "## Feature Selection 🏆"
   ]
  },
  {
   "cell_type": "markdown",
   "id": "50205f33",
   "metadata": {
    "pycharm": {
     "name": "#%% md\n"
    }
   },
   "source": [
    "Print the correlation matrix in order to visualize if the selected features are highly correlated (if so we should drop the related columns)."
   ]
  },
  {
   "cell_type": "code",
   "execution_count": 150,
   "id": "a1a71f62",
   "metadata": {
    "pycharm": {
     "name": "#%%\n"
    }
   },
   "outputs": [
    {
     "data": {
      "image/png": "[encoded data removed]",
      "text/plain": [
       "<Figure size 720x576 with 2 Axes>"
      ]
     },
     "metadata": {
      "needs_background": "light"
     },
     "output_type": "display_data"
    }
   ],
   "source": [
    "features = df_resampled\n",
    "features.drop('Person',axis = 1,inplace= True)\n",
    "\n",
    "corr = features.corr()\n",
    "\n",
    "plt.figure(figsize=(10,8))\n",
    "sns.heatmap(corr)\n",
    "plt.show()"
   ]
  },
  {
   "cell_type": "markdown",
   "id": "4cee90d1",
   "metadata": {
    "pycharm": {
     "name": "#%% md\n"
    }
   },
   "source": [
    "## Training and Testing 🥊"
   ]
  },
  {
   "cell_type": "markdown",
   "id": "e02e6a23",
   "metadata": {
    "pycharm": {
     "name": "#%% md\n"
    }
   },
   "source": [
    "### Random Forest 🌲"
   ]
  },
  {
   "cell_type": "markdown",
   "id": "7ef1c3bd",
   "metadata": {
    "pycharm": {
     "name": "#%% md\n"
    }
   },
   "source": [
    "Select *Random Forest* as classifier."
   ]
  },
  {
   "cell_type": "code",
   "execution_count": 151,
   "id": "a830339a",
   "metadata": {
    "pycharm": {
     "name": "#%%\n"
    }
   },
   "outputs": [],
   "source": [
    "classifier =  RandomForestClassifier()"
   ]
  },
  {
   "cell_type": "markdown",
   "id": "532dcdd9",
   "metadata": {
    "pycharm": {
     "name": "#%% md\n"
    }
   },
   "source": [
    "**Training** the model."
   ]
  },
  {
   "cell_type": "code",
   "execution_count": 152,
   "id": "e30ef95f",
   "metadata": {
    "pycharm": {
     "name": "#%%\n"
    }
   },
   "outputs": [],
   "source": [
    "start = time.time()\n",
    "classifier.fit(x_train, y_train)\n",
    "end = time.time()\n",
    "training_time = end - start"
   ]
  },
  {
   "cell_type": "markdown",
   "id": "2fde80fb",
   "metadata": {
    "pycharm": {
     "name": "#%% md\n"
    }
   },
   "source": [
    "**Testing** the model."
   ]
  },
  {
   "cell_type": "code",
   "execution_count": 153,
   "id": "a1e995f2",
   "metadata": {
    "pycharm": {
     "name": "#%%\n"
    }
   },
   "outputs": [
    {
     "name": "stdout",
     "output_type": "stream",
     "text": [
      "0.32010531425476074 0.01903080940246582\n"
     ]
    }
   ],
   "source": [
    "start = time.time()\n",
    "y_predicted = classifier.predict(x_validate)\n",
    "end = time.time()\n",
    "predict_time = end  - start\n",
    "print(training_time, predict_time)"
   ]
  },
  {
   "cell_type": "markdown",
   "id": "70aa7438",
   "metadata": {
    "pycharm": {
     "name": "#%% md\n"
    }
   },
   "source": [
    "Print the **confusion matrix** of the just trained model."
   ]
  },
  {
   "cell_type": "markdown",
   "id": "8b7d032d",
   "metadata": {
    "pycharm": {
     "name": "#%% md\n"
    }
   },
   "source": [
    "Some statistics about the accuracy of the model."
   ]
  },
  {
   "cell_type": "code",
   "execution_count": 154,
   "id": "8bf4c755",
   "metadata": {
    "pycharm": {
     "name": "#%%\n"
    }
   },
   "outputs": [
    {
     "data": {
      "text/html": [
       "<div>\n",
       "<style scoped>\n",
       "    .dataframe tbody tr th:only-of-type {\n",
       "        vertical-align: middle;\n",
       "    }\n",
       "\n",
       "    .dataframe tbody tr th {\n",
       "        vertical-align: top;\n",
       "    }\n",
       "\n",
       "    .dataframe thead th {\n",
       "        text-align: right;\n",
       "    }\n",
       "</style>\n",
       "<table border=\"1\" class=\"dataframe\">\n",
       "  <thead>\n",
       "    <tr style=\"text-align: right;\">\n",
       "      <th></th>\n",
       "      <th>Precision</th>\n",
       "      <th>Recall</th>\n",
       "      <th>FScore</th>\n",
       "    </tr>\n",
       "  </thead>\n",
       "  <tbody>\n",
       "    <tr>\n",
       "      <th>0</th>\n",
       "      <td>0.980583</td>\n",
       "      <td>0.974903</td>\n",
       "      <td>0.977735</td>\n",
       "    </tr>\n",
       "    <tr>\n",
       "      <th>1</th>\n",
       "      <td>0.975564</td>\n",
       "      <td>0.981096</td>\n",
       "      <td>0.978322</td>\n",
       "    </tr>\n",
       "  </tbody>\n",
       "</table>\n",
       "</div>"
      ],
      "text/plain": [
       "   Precision    Recall    FScore\n",
       "0   0.980583  0.974903  0.977735\n",
       "1   0.975564  0.981096  0.978322"
      ]
     },
     "execution_count": 154,
     "metadata": {},
     "output_type": "execute_result"
    }
   ],
   "source": [
    "precision, recall, fscore, support = score(y_validate, y_predicted)\n",
    "d = {'Precision': precision, 'Recall' : recall, 'FScore': fscore}\n",
    "results = pd.DataFrame(data=d)\n",
    "results"
   ]
  },
  {
   "cell_type": "markdown",
   "id": "c033ae57",
   "metadata": {},
   "source": [
    "#### Estimator Optimization"
   ]
  },
  {
   "cell_type": "code",
   "execution_count": 155,
   "id": "fb95baee",
   "metadata": {},
   "outputs": [],
   "source": [
    "# n estimators is the number of decision trees we consider in the ensemble \n",
    "n_estimators = [12, 25, 50, 100, 200, 400, 800, 1600]\n",
    "results = []\n",
    "time_results = []"
   ]
  },
  {
   "cell_type": "code",
   "execution_count": 156,
   "id": "01d5a0f3",
   "metadata": {},
   "outputs": [],
   "source": [
    "# note: takes a long time\n",
    "for estimator in n_estimators: \n",
    "    # fit model with n_estimators parameter\n",
    "    classifier =  RandomForestClassifier(n_estimators=estimator)\n",
    "    classifier.fit(x_train, y_train)\n",
    "    \n",
    "    # predict validation\n",
    "    start = time.time()\n",
    "    y_pred = classifier.predict(x_validate)\n",
    "    end = time.time()\n",
    "    \n",
    "    # calculate metrics\n",
    "    p, r, f1, n = score(y_validate, y_pred, average = 'macro')\n",
    "    \n",
    "    # append f1 and time to results array\n",
    "    results.append(f1)\n",
    "    time_results.append(end-start)"
   ]
  },
  {
   "cell_type": "code",
   "execution_count": 157,
   "id": "0f47b6b4",
   "metadata": {},
   "outputs": [
    {
     "data": {
      "text/plain": [
       "Text(0.5, 1.0, 'How n_estimators value changes classification time')"
      ]
     },
     "execution_count": 157,
     "metadata": {},
     "output_type": "execute_result"
    },
    {
     "data": {
      "image/png": "[encoded data removed]",
      "text/plain": [
       "<Figure size 432x288 with 1 Axes>"
      ]
     },
     "metadata": {
      "needs_background": "light"
     },
     "output_type": "display_data"
    }
   ],
   "source": [
    "# plot classification time for n_estimators\n",
    "plt.plot(n_estimators, time_results)\n",
    "plt.xlabel('n_estimators')\n",
    "plt.ylabel('Classification Time (s)')\n",
    "plt.title('How n_estimators value changes classification time')"
   ]
  },
  {
   "cell_type": "code",
   "execution_count": 158,
   "id": "814b6414",
   "metadata": {},
   "outputs": [
    {
     "data": {
      "text/plain": [
       "Text(0.5, 1.0, 'How n_estimators value changes F1 score for the validation dataset')"
      ]
     },
     "execution_count": 158,
     "metadata": {},
     "output_type": "execute_result"
    },
    {
     "data": {
      "image/png": "[encoded data removed]",
      "text/plain": [
       "<Figure size 432x288 with 1 Axes>"
      ]
     },
     "metadata": {
      "needs_background": "light"
     },
     "output_type": "display_data"
    }
   ],
   "source": [
    "# plot f1 score for n estimators\n",
    "plt.plot(n_estimators, results)\n",
    "plt.xlabel('n_estimators')\n",
    "plt.ylabel('F1 Score')\n",
    "plt.title('How n_estimators value changes F1 score for the validation dataset')"
   ]
  },
  {
   "cell_type": "code",
   "execution_count": 159,
   "id": "0725e8c6",
   "metadata": {},
   "outputs": [],
   "source": [
    "from sklearn.model_selection import RandomizedSearchCV\n",
    "\n",
    "max_features = [int(x) for x in np.linspace(2, 40, num = 20)] # from 2 to 40 (max number) of features (up in 2s)\n",
    "max_features.append('auto') \n",
    "max_depth = [int(x) for x in np.linspace(10, 200, num = 10)] # 10 values for max depth from 10 to 200\n",
    "max_depth.append(None) # also have option for no max depth\n",
    "min_samples_split = [2, 5, 10]\n",
    "min_samples_leaf = [1, 2, 4]\n",
    "bootstrap = [True, False]\n",
    "\n",
    "random_grid = {'n_estimators': [25], # chosen n_estimator\n",
    "               'max_features': max_features,\n",
    "               'max_depth': max_depth,\n",
    "               'min_samples_split': min_samples_split,\n",
    "               'min_samples_leaf': min_samples_leaf,\n",
    "               'bootstrap': bootstrap}"
   ]
  },
  {
   "cell_type": "code",
   "execution_count": 160,
   "id": "6e73416e",
   "metadata": {},
   "outputs": [
    {
     "name": "stdout",
     "output_type": "stream",
     "text": [
      "Fitting 3 folds for each of 100 candidates, totalling 300 fits\n",
      "[CV] END bootstrap=True, max_depth=178, max_features=10, min_samples_leaf=2, min_samples_split=10, n_estimators=25; total time=   0.0s\n",
      "[CV] END bootstrap=True, max_depth=115, max_features=6, min_samples_leaf=4, min_samples_split=2, n_estimators=25; total time=   0.2s\n",
      "[CV] END bootstrap=True, max_depth=115, max_features=6, min_samples_leaf=4, min_samples_split=2, n_estimators=25; total time=   0.2s\n",
      "[CV] END bootstrap=True, max_depth=178, max_features=10, min_samples_leaf=2, min_samples_split=10, n_estimators=25; total time=   0.0s\n",
      "[CV] END bootstrap=True, max_depth=115, max_features=6, min_samples_leaf=4, min_samples_split=2, n_estimators=25; total time=   0.2s\n",
      "[CV] END bootstrap=True, max_depth=178, max_features=10, min_samples_leaf=2, min_samples_split=10, n_estimators=25; total time=   0.0s\n",
      "[CV] END bootstrap=True, max_depth=157, max_features=22, min_samples_leaf=2, min_samples_split=5, n_estimators=25; total time=   0.0s\n",
      "[CV] END bootstrap=True, max_depth=157, max_features=22, min_samples_leaf=2, min_samples_split=5, n_estimators=25; total time=   0.0s\n",
      "[CV] END bootstrap=True, max_depth=157, max_features=22, min_samples_leaf=2, min_samples_split=5, n_estimators=25; total time=   0.0s\n",
      "[CV] END bootstrap=True, max_depth=178, max_features=auto, min_samples_leaf=1, min_samples_split=10, n_estimators=25; total time=   0.1s\n",
      "[CV] END bootstrap=True, max_depth=52, max_features=14, min_samples_leaf=4, min_samples_split=2, n_estimators=25; total time=   0.0s\n",
      "[CV] END bootstrap=True, max_depth=52, max_features=14, min_samples_leaf=4, min_samples_split=2, n_estimators=25; total time=   0.0s\n",
      "[CV] END bootstrap=True, max_depth=178, max_features=30, min_samples_leaf=2, min_samples_split=2, n_estimators=25; total time=   0.0s\n",
      "[CV] END bootstrap=True, max_depth=178, max_features=auto, min_samples_leaf=1, min_samples_split=10, n_estimators=25; total time=   0.1s\n",
      "[CV] END bootstrap=True, max_depth=52, max_features=14, min_samples_leaf=4, min_samples_split=2, n_estimators=25; total time=   0.0s\n",
      "[CV] END bootstrap=True, max_depth=178, max_features=30, min_samples_leaf=2, min_samples_split=2, n_estimators=25; total time=   0.0s\n",
      "[CV] END bootstrap=True, max_depth=178, max_features=30, min_samples_leaf=2, min_samples_split=2, n_estimators=25; total time=   0.0s\n",
      "[CV] END bootstrap=True, max_depth=73, max_features=20, min_samples_leaf=1, min_samples_split=10, n_estimators=25; total time=   0.0s\n",
      "[CV] END bootstrap=True, max_depth=73, max_features=20, min_samples_leaf=1, min_samples_split=10, n_estimators=25; total time=   0.0s\n",
      "[CV] END bootstrap=True, max_depth=73, max_features=20, min_samples_leaf=1, min_samples_split=10, n_estimators=25; total time=   0.0s\n",
      "[CV] END bootstrap=True, max_depth=178, max_features=auto, min_samples_leaf=1, min_samples_split=10, n_estimators=25; total time=   0.1s\n",
      "[CV] END bootstrap=True, max_depth=10, max_features=40, min_samples_leaf=4, min_samples_split=10, n_estimators=25; total time=   0.0s\n",
      "[CV] END bootstrap=True, max_depth=10, max_features=40, min_samples_leaf=4, min_samples_split=10, n_estimators=25; total time=   0.0s\n",
      "[CV] END bootstrap=True, max_depth=10, max_features=40, min_samples_leaf=4, min_samples_split=10, n_estimators=25; total time=   0.0s\n",
      "[CV] END bootstrap=True, max_depth=52, max_features=40, min_samples_leaf=1, min_samples_split=10, n_estimators=25; total time=   0.0s\n",
      "[CV] END bootstrap=True, max_depth=52, max_features=40, min_samples_leaf=1, min_samples_split=10, n_estimators=25; total time=   0.0s\n",
      "[CV] END bootstrap=True, max_depth=52, max_features=40, min_samples_leaf=1, min_samples_split=10, n_estimators=25; total time=   0.0s\n",
      "[CV] END bootstrap=True, max_depth=178, max_features=34, min_samples_leaf=1, min_samples_split=5, n_estimators=25; total time=   0.0s\n",
      "[CV] END bootstrap=True, max_depth=178, max_features=34, min_samples_leaf=1, min_samples_split=5, n_estimators=25; total time=   0.0s\n",
      "[CV] END bootstrap=True, max_depth=178, max_features=34, min_samples_leaf=1, min_samples_split=5, n_estimators=25; total time=   0.0s\n",
      "[CV] END bootstrap=True, max_depth=None, max_features=10, min_samples_leaf=2, min_samples_split=2, n_estimators=25; total time=   0.0s\n",
      "[CV] END bootstrap=True, max_depth=None, max_features=10, min_samples_leaf=2, min_samples_split=2, n_estimators=25; total time=   0.0s\n",
      "[CV] END bootstrap=True, max_depth=None, max_features=10, min_samples_leaf=2, min_samples_split=2, n_estimators=25; total time=   0.0s\n",
      "[CV] END bootstrap=False, max_depth=94, max_features=28, min_samples_leaf=1, min_samples_split=5, n_estimators=25; total time=   0.0s\n",
      "[CV] END bootstrap=False, max_depth=94, max_features=28, min_samples_leaf=1, min_samples_split=5, n_estimators=25; total time=   0.0s\n",
      "[CV] END bootstrap=False, max_depth=94, max_features=28, min_samples_leaf=1, min_samples_split=5, n_estimators=25; total time=   0.0s\n",
      "[CV] END bootstrap=False, max_depth=10, max_features=auto, min_samples_leaf=1, min_samples_split=2, n_estimators=25; total time=   0.1s\n",
      "[CV] END bootstrap=True, max_depth=136, max_features=12, min_samples_leaf=4, min_samples_split=2, n_estimators=25; total time=   0.0s\n",
      "[CV] END bootstrap=False, max_depth=10, max_features=auto, min_samples_leaf=1, min_samples_split=2, n_estimators=25; total time=   0.1s\n",
      "[CV] END bootstrap=True, max_depth=136, max_features=12, min_samples_leaf=4, min_samples_split=2, n_estimators=25; total time=   0.0s\n",
      "[CV] END bootstrap=True, max_depth=136, max_features=12, min_samples_leaf=4, min_samples_split=2, n_estimators=25; total time=   0.0s\n",
      "[CV] END bootstrap=True, max_depth=200, max_features=40, min_samples_leaf=4, min_samples_split=10, n_estimators=25; total time=   0.0s\n",
      "[CV] END bootstrap=False, max_depth=10, max_features=auto, min_samples_leaf=1, min_samples_split=2, n_estimators=25; total time=   0.2s\n",
      "[CV] END bootstrap=False, max_depth=94, max_features=16, min_samples_leaf=4, min_samples_split=5, n_estimators=25; total time=   0.0s\n",
      "[CV] END bootstrap=True, max_depth=200, max_features=40, min_samples_leaf=4, min_samples_split=10, n_estimators=25; total time=   0.0s\n",
      "[CV] END bootstrap=True, max_depth=200, max_features=40, min_samples_leaf=4, min_samples_split=10, n_estimators=25; total time=   0.0s\n",
      "[CV] END bootstrap=False, max_depth=94, max_features=16, min_samples_leaf=4, min_samples_split=5, n_estimators=25; total time=   0.0s\n",
      "[CV] END bootstrap=False, max_depth=94, max_features=16, min_samples_leaf=4, min_samples_split=5, n_estimators=25; total time=   0.0s\n",
      "[CV] END bootstrap=True, max_depth=10, max_features=22, min_samples_leaf=4, min_samples_split=2, n_estimators=25; total time=   0.0s\n",
      "[CV] END bootstrap=True, max_depth=10, max_features=22, min_samples_leaf=4, min_samples_split=2, n_estimators=25; total time=   0.0s\n",
      "[CV] END bootstrap=False, max_depth=115, max_features=36, min_samples_leaf=4, min_samples_split=10, n_estimators=25; total time=   0.0s\n",
      "[CV] END bootstrap=False, max_depth=136, max_features=30, min_samples_leaf=2, min_samples_split=10, n_estimators=25; total time=   0.0s\n",
      "[CV] END bootstrap=False, max_depth=136, max_features=30, min_samples_leaf=2, min_samples_split=10, n_estimators=25; total time=   0.0s\n",
      "[CV] END bootstrap=True, max_depth=10, max_features=22, min_samples_leaf=4, min_samples_split=2, n_estimators=25; total time=   0.0s\n",
      "[CV] END bootstrap=False, max_depth=115, max_features=36, min_samples_leaf=4, min_samples_split=10, n_estimators=25; total time=   0.0s\n",
      "[CV] END bootstrap=False, max_depth=115, max_features=36, min_samples_leaf=4, min_samples_split=10, n_estimators=25; total time=   0.0s\n",
      "[CV] END bootstrap=False, max_depth=136, max_features=30, min_samples_leaf=2, min_samples_split=10, n_estimators=25; total time=   0.0s\n",
      "[CV] END bootstrap=False, max_depth=31, max_features=16, min_samples_leaf=4, min_samples_split=5, n_estimators=25; total time=   0.0s\n",
      "[CV] END bootstrap=False, max_depth=31, max_features=16, min_samples_leaf=4, min_samples_split=5, n_estimators=25; total time=   0.0s\n",
      "[CV] END bootstrap=True, max_depth=73, max_features=22, min_samples_leaf=4, min_samples_split=10, n_estimators=25; total time=   0.0s\n",
      "[CV] END bootstrap=False, max_depth=52, max_features=24, min_samples_leaf=2, min_samples_split=10, n_estimators=25; total time=   0.0s\n",
      "[CV] END bootstrap=False, max_depth=31, max_features=16, min_samples_leaf=4, min_samples_split=5, n_estimators=25; total time=   0.0s\n",
      "[CV] END bootstrap=True, max_depth=73, max_features=22, min_samples_leaf=4, min_samples_split=10, n_estimators=25; total time=   0.0s\n",
      "[CV] END bootstrap=False, max_depth=52, max_features=24, min_samples_leaf=2, min_samples_split=10, n_estimators=25; total time=   0.0s\n",
      "[CV] END bootstrap=True, max_depth=73, max_features=22, min_samples_leaf=4, min_samples_split=10, n_estimators=25; total time=   0.0s\n",
      "[CV] END bootstrap=False, max_depth=52, max_features=24, min_samples_leaf=2, min_samples_split=10, n_estimators=25; total time=   0.0s\n",
      "[CV] END bootstrap=True, max_depth=31, max_features=26, min_samples_leaf=1, min_samples_split=5, n_estimators=25; total time=   0.0s\n",
      "[CV] END bootstrap=True, max_depth=157, max_features=2, min_samples_leaf=4, min_samples_split=5, n_estimators=25; total time=   0.1s\n",
      "[CV] END bootstrap=True, max_depth=31, max_features=26, min_samples_leaf=1, min_samples_split=5, n_estimators=25; total time=   0.0s\n",
      "[CV] END bootstrap=True, max_depth=157, max_features=2, min_samples_leaf=4, min_samples_split=5, n_estimators=25; total time=   0.1s\n",
      "[CV] END bootstrap=True, max_depth=10, max_features=34, min_samples_leaf=2, min_samples_split=10, n_estimators=25; total time=   0.0s\n",
      "[CV] END bootstrap=True, max_depth=31, max_features=26, min_samples_leaf=1, min_samples_split=5, n_estimators=25; total time=   0.0s\n",
      "[CV] END bootstrap=False, max_depth=115, max_features=38, min_samples_leaf=1, min_samples_split=5, n_estimators=25; total time=   0.0s\n",
      "[CV] END bootstrap=True, max_depth=178, max_features=2, min_samples_leaf=1, min_samples_split=5, n_estimators=25; total time=   0.1s\n",
      "[CV] END bootstrap=False, max_depth=115, max_features=38, min_samples_leaf=1, min_samples_split=5, n_estimators=25; total time=   0.0s\n",
      "[CV] END bootstrap=True, max_depth=10, max_features=auto, min_samples_leaf=4, min_samples_split=10, n_estimators=25; total time=   0.1s\n",
      "[CV] END bootstrap=False, max_depth=115, max_features=38, min_samples_leaf=1, min_samples_split=5, n_estimators=25; total time=   0.0s\n",
      "[CV] END bootstrap=True, max_depth=10, max_features=auto, min_samples_leaf=4, min_samples_split=10, n_estimators=25; total time=   0.1s\n",
      "[CV] END bootstrap=True, max_depth=157, max_features=2, min_samples_leaf=4, min_samples_split=5, n_estimators=25; total time=   0.1s\n",
      "[CV] END bootstrap=True, max_depth=157, max_features=10, min_samples_leaf=1, min_samples_split=10, n_estimators=25; total time=   0.0s\n",
      "[CV] END bootstrap=False, max_depth=52, max_features=22, min_samples_leaf=4, min_samples_split=2, n_estimators=25; total time=   0.0s\n",
      "[CV] END bootstrap=True, max_depth=157, max_features=10, min_samples_leaf=1, min_samples_split=10, n_estimators=25; total time=   0.0s\n",
      "[CV] END bootstrap=False, max_depth=52, max_features=22, min_samples_leaf=4, min_samples_split=2, n_estimators=25; total time=   0.0s\n",
      "[CV] END bootstrap=True, max_depth=115, max_features=28, min_samples_leaf=4, min_samples_split=2, n_estimators=25; total time=   0.0s\n",
      "[CV] END bootstrap=True, max_depth=178, max_features=2, min_samples_leaf=1, min_samples_split=5, n_estimators=25; total time=   0.1s\n",
      "[CV] END bootstrap=True, max_depth=157, max_features=10, min_samples_leaf=1, min_samples_split=10, n_estimators=25; total time=   0.0s\n",
      "[CV] END bootstrap=True, max_depth=52, max_features=18, min_samples_leaf=4, min_samples_split=5, n_estimators=25; total time=   0.0s\n",
      "[CV] END bootstrap=True, max_depth=115, max_features=28, min_samples_leaf=4, min_samples_split=2, n_estimators=25; total time=   0.0s\n",
      "[CV] END bootstrap=False, max_depth=52, max_features=22, min_samples_leaf=4, min_samples_split=2, n_estimators=25; total time=   0.0s\n",
      "[CV] END bootstrap=True, max_depth=52, max_features=18, min_samples_leaf=4, min_samples_split=5, n_estimators=25; total time=   0.0s\n",
      "[CV] END bootstrap=True, max_depth=115, max_features=28, min_samples_leaf=4, min_samples_split=2, n_estimators=25; total time=   0.0s\n",
      "[CV] END bootstrap=False, max_depth=None, max_features=36, min_samples_leaf=4, min_samples_split=10, n_estimators=25; total time=   0.0s\n",
      "[CV] END bootstrap=True, max_depth=136, max_features=16, min_samples_leaf=2, min_samples_split=2, n_estimators=25; total time=   0.0s\n",
      "[CV] END bootstrap=True, max_depth=178, max_features=2, min_samples_leaf=1, min_samples_split=5, n_estimators=25; total time=   0.1s\n",
      "[CV] END bootstrap=True, max_depth=52, max_features=18, min_samples_leaf=4, min_samples_split=5, n_estimators=25; total time=   0.0s\n",
      "[CV] END bootstrap=False, max_depth=None, max_features=36, min_samples_leaf=4, min_samples_split=10, n_estimators=25; total time=   0.0s\n",
      "[CV] END bootstrap=True, max_depth=10, max_features=16, min_samples_leaf=4, min_samples_split=5, n_estimators=25; total time=   0.0s\n",
      "[CV] END bootstrap=True, max_depth=136, max_features=16, min_samples_leaf=2, min_samples_split=2, n_estimators=25; total time=   0.0s\n",
      "[CV] END bootstrap=True, max_depth=10, max_features=34, min_samples_leaf=2, min_samples_split=10, n_estimators=25; total time=   0.0s\n",
      "[CV] END bootstrap=False, max_depth=None, max_features=36, min_samples_leaf=4, min_samples_split=10, n_estimators=25; total time=   0.0s\n",
      "[CV] END bootstrap=False, max_depth=52, max_features=12, min_samples_leaf=4, min_samples_split=5, n_estimators=25; total time=   0.0s\n",
      "[CV] END bootstrap=True, max_depth=10, max_features=auto, min_samples_leaf=4, min_samples_split=10, n_estimators=25; total time=   0.1s\n",
      "[CV] END bootstrap=True, max_depth=10, max_features=34, min_samples_leaf=2, min_samples_split=10, n_estimators=25; total time=   0.0s\n",
      "[CV] END bootstrap=True, max_depth=10, max_features=16, min_samples_leaf=4, min_samples_split=5, n_estimators=25; total time=   0.0s\n",
      "[CV] END bootstrap=True, max_depth=136, max_features=16, min_samples_leaf=2, min_samples_split=2, n_estimators=25; total time=   0.0s\n",
      "[CV] END bootstrap=True, max_depth=10, max_features=16, min_samples_leaf=4, min_samples_split=5, n_estimators=25; total time=   0.0s\n",
      "[CV] END bootstrap=False, max_depth=52, max_features=12, min_samples_leaf=4, min_samples_split=5, n_estimators=25; total time=   0.0s\n",
      "[CV] END bootstrap=True, max_depth=31, max_features=32, min_samples_leaf=4, min_samples_split=2, n_estimators=25; total time=   0.0s\n",
      "[CV] END bootstrap=False, max_depth=52, max_features=12, min_samples_leaf=4, min_samples_split=5, n_estimators=25; total time=   0.0s\n",
      "[CV] END bootstrap=True, max_depth=31, max_features=32, min_samples_leaf=4, min_samples_split=2, n_estimators=25; total time=   0.0s\n",
      "[CV] END bootstrap=True, max_depth=73, max_features=28, min_samples_leaf=4, min_samples_split=2, n_estimators=25; total time=   0.0s\n",
      "[CV] END bootstrap=False, max_depth=178, max_features=34, min_samples_leaf=4, min_samples_split=2, n_estimators=25; total time=   0.0s\n",
      "[CV] END bootstrap=True, max_depth=31, max_features=32, min_samples_leaf=4, min_samples_split=2, n_estimators=25; total time=   0.0s\n",
      "[CV] END bootstrap=False, max_depth=178, max_features=34, min_samples_leaf=4, min_samples_split=2, n_estimators=25; total time=   0.0s\n",
      "[CV] END bootstrap=True, max_depth=157, max_features=auto, min_samples_leaf=1, min_samples_split=2, n_estimators=25; total time=   0.1s\n",
      "[CV] END bootstrap=True, max_depth=94, max_features=14, min_samples_leaf=4, min_samples_split=5, n_estimators=25; total time=   0.0s\n",
      "[CV] END bootstrap=False, max_depth=None, max_features=2, min_samples_leaf=4, min_samples_split=2, n_estimators=25; total time=   0.1s\n",
      "[CV] END bootstrap=False, max_depth=178, max_features=14, min_samples_leaf=1, min_samples_split=10, n_estimators=25; total time=   0.0s\n",
      "[CV] END bootstrap=True, max_depth=94, max_features=14, min_samples_leaf=4, min_samples_split=5, n_estimators=25; total time=   0.0s\n",
      "[CV] END bootstrap=False, max_depth=178, max_features=14, min_samples_leaf=1, min_samples_split=10, n_estimators=25; total time=   0.0s\n",
      "[CV] END bootstrap=True, max_depth=94, max_features=14, min_samples_leaf=4, min_samples_split=5, n_estimators=25; total time=   0.0s\n",
      "[CV] END bootstrap=False, max_depth=178, max_features=14, min_samples_leaf=1, min_samples_split=10, n_estimators=25; total time=   0.0s\n",
      "[CV] END bootstrap=True, max_depth=73, max_features=28, min_samples_leaf=4, min_samples_split=2, n_estimators=25; total time=   0.0s\n",
      "[CV] END bootstrap=True, max_depth=73, max_features=26, min_samples_leaf=2, min_samples_split=10, n_estimators=25; total time=   0.0s\n",
      "[CV] END bootstrap=True, max_depth=31, max_features=6, min_samples_leaf=2, min_samples_split=5, n_estimators=25; total time=   0.2s\n",
      "[CV] END bootstrap=True, max_depth=73, max_features=28, min_samples_leaf=4, min_samples_split=2, n_estimators=25; total time=   0.0s\n",
      "[CV] END bootstrap=True, max_depth=73, max_features=26, min_samples_leaf=2, min_samples_split=10, n_estimators=25; total time=   0.0s\n",
      "[CV] END bootstrap=False, max_depth=10, max_features=12, min_samples_leaf=4, min_samples_split=10, n_estimators=25; total time=   0.0s\n",
      "[CV] END bootstrap=True, max_depth=31, max_features=20, min_samples_leaf=1, min_samples_split=2, n_estimators=25; total time=   0.0s\n",
      "[CV] END bootstrap=True, max_depth=157, max_features=auto, min_samples_leaf=1, min_samples_split=2, n_estimators=25; total time=   0.1s\n",
      "[CV] END bootstrap=True, max_depth=73, max_features=26, min_samples_leaf=2, min_samples_split=10, n_estimators=25; total time=   0.0s\n",
      "[CV] END bootstrap=False, max_depth=None, max_features=2, min_samples_leaf=4, min_samples_split=2, n_estimators=25; total time=   0.1s\n",
      "[CV] END bootstrap=False, max_depth=10, max_features=12, min_samples_leaf=4, min_samples_split=10, n_estimators=25; total time=   0.0s\n",
      "[CV] END bootstrap=True, max_depth=31, max_features=20, min_samples_leaf=1, min_samples_split=2, n_estimators=25; total time=   0.0s\n",
      "[CV] END bootstrap=True, max_depth=136, max_features=30, min_samples_leaf=4, min_samples_split=10, n_estimators=25; total time=   0.0s\n",
      "[CV] END bootstrap=True, max_depth=31, max_features=20, min_samples_leaf=1, min_samples_split=2, n_estimators=25; total time=   0.0s\n",
      "[CV] END bootstrap=False, max_depth=10, max_features=12, min_samples_leaf=4, min_samples_split=10, n_estimators=25; total time=   0.0s\n",
      "[CV] END bootstrap=True, max_depth=178, max_features=36, min_samples_leaf=2, min_samples_split=10, n_estimators=25; total time=   0.0s\n",
      "[CV] END bootstrap=False, max_depth=136, max_features=6, min_samples_leaf=1, min_samples_split=2, n_estimators=25; total time=   0.2s\n",
      "[CV] END bootstrap=True, max_depth=178, max_features=36, min_samples_leaf=2, min_samples_split=10, n_estimators=25; total time=   0.0s\n",
      "[CV] END bootstrap=True, max_depth=178, max_features=36, min_samples_leaf=2, min_samples_split=10, n_estimators=25; total time=   0.0s\n",
      "[CV] END bootstrap=True, max_depth=None, max_features=26, min_samples_leaf=2, min_samples_split=5, n_estimators=25; total time=   0.0s\n",
      "[CV] END bootstrap=True, max_depth=None, max_features=26, min_samples_leaf=2, min_samples_split=5, n_estimators=25; total time=   0.0s\n",
      "[CV] END bootstrap=True, max_depth=None, max_features=26, min_samples_leaf=2, min_samples_split=5, n_estimators=25; total time=   0.0s\n",
      "[CV] END bootstrap=True, max_depth=157, max_features=auto, min_samples_leaf=1, min_samples_split=2, n_estimators=25; total time=   0.1s\n",
      "[CV] END bootstrap=True, max_depth=31, max_features=auto, min_samples_leaf=1, min_samples_split=10, n_estimators=25; total time=   0.1s\n",
      "[CV] END bootstrap=True, max_depth=31, max_features=6, min_samples_leaf=2, min_samples_split=5, n_estimators=25; total time=   0.2s\n",
      "[CV] END bootstrap=True, max_depth=None, max_features=8, min_samples_leaf=1, min_samples_split=5, n_estimators=25; total time=   0.2s\n",
      "[CV] END bootstrap=False, max_depth=136, max_features=6, min_samples_leaf=1, min_samples_split=2, n_estimators=25; total time=   0.2s\n",
      "[CV] END bootstrap=False, max_depth=None, max_features=2, min_samples_leaf=4, min_samples_split=2, n_estimators=25; total time=   0.1s\n",
      "[CV] END bootstrap=True, max_depth=31, max_features=auto, min_samples_leaf=1, min_samples_split=10, n_estimators=25; total time=   0.1s\n",
      "[CV] END bootstrap=False, max_depth=94, max_features=16, min_samples_leaf=1, min_samples_split=5, n_estimators=25; total time=   0.0s\n",
      "[CV] END bootstrap=False, max_depth=94, max_features=16, min_samples_leaf=1, min_samples_split=5, n_estimators=25; total time=   0.0s\n",
      "[CV] END bootstrap=False, max_depth=94, max_features=16, min_samples_leaf=1, min_samples_split=5, n_estimators=25; total time=   0.0s\n",
      "[CV] END bootstrap=False, max_depth=94, max_features=40, min_samples_leaf=1, min_samples_split=5, n_estimators=25; total time=   0.0s\n",
      "[CV] END bootstrap=True, max_depth=31, max_features=6, min_samples_leaf=2, min_samples_split=5, n_estimators=25; total time=   0.1s\n",
      "[CV] END bootstrap=True, max_depth=None, max_features=8, min_samples_leaf=1, min_samples_split=5, n_estimators=25; total time=   0.2s\n",
      "[CV] END bootstrap=False, max_depth=94, max_features=40, min_samples_leaf=1, min_samples_split=5, n_estimators=25; total time=   0.0s\n",
      "[CV] END bootstrap=True, max_depth=115, max_features=20, min_samples_leaf=4, min_samples_split=2, n_estimators=25; total time=   0.0s\n",
      "[CV] END bootstrap=False, max_depth=94, max_features=40, min_samples_leaf=1, min_samples_split=5, n_estimators=25; total time=   0.0s\n",
      "[CV] END bootstrap=True, max_depth=52, max_features=22, min_samples_leaf=2, min_samples_split=2, n_estimators=25; total time=   0.0s\n",
      "[CV] END bootstrap=True, max_depth=115, max_features=20, min_samples_leaf=4, min_samples_split=2, n_estimators=25; total time=   0.0s\n",
      "[CV] END bootstrap=True, max_depth=31, max_features=auto, min_samples_leaf=1, min_samples_split=10, n_estimators=25; total time=   0.1s\n",
      "[CV] END bootstrap=True, max_depth=52, max_features=22, min_samples_leaf=2, min_samples_split=2, n_estimators=25; total time=   0.0s\n",
      "[CV] END bootstrap=True, max_depth=115, max_features=20, min_samples_leaf=4, min_samples_split=2, n_estimators=25; total time=   0.0s\n",
      "[CV] END bootstrap=True, max_depth=136, max_features=30, min_samples_leaf=4, min_samples_split=10, n_estimators=25; total time=   0.0s\n",
      "[CV] END bootstrap=True, max_depth=None, max_features=8, min_samples_leaf=1, min_samples_split=5, n_estimators=25; total time=   0.2s\n",
      "[CV] END bootstrap=True, max_depth=52, max_features=22, min_samples_leaf=2, min_samples_split=2, n_estimators=25; total time=   0.0s\n",
      "[CV] END bootstrap=True, max_depth=None, max_features=20, min_samples_leaf=1, min_samples_split=5, n_estimators=25; total time=   0.0s\n",
      "[CV] END bootstrap=True, max_depth=136, max_features=30, min_samples_leaf=4, min_samples_split=10, n_estimators=25; total time=   0.0s\n",
      "[CV] END bootstrap=True, max_depth=10, max_features=38, min_samples_leaf=2, min_samples_split=5, n_estimators=25; total time=   0.0s\n",
      "[CV] END bootstrap=False, max_depth=None, max_features=30, min_samples_leaf=1, min_samples_split=5, n_estimators=25; total time=   0.0s\n",
      "[CV] END bootstrap=True, max_depth=None, max_features=20, min_samples_leaf=1, min_samples_split=5, n_estimators=25; total time=   0.0s\n",
      "[CV] END bootstrap=True, max_depth=31, max_features=4, min_samples_leaf=4, min_samples_split=5, n_estimators=25; total time=   0.1s\n",
      "[CV] END bootstrap=False, max_depth=None, max_features=30, min_samples_leaf=1, min_samples_split=5, n_estimators=25; total time=   0.0s\n",
      "[CV] END bootstrap=True, max_depth=10, max_features=38, min_samples_leaf=2, min_samples_split=5, n_estimators=25; total time=   0.0s\n",
      "[CV] END bootstrap=True, max_depth=None, max_features=20, min_samples_leaf=1, min_samples_split=5, n_estimators=25; total time=   0.0s\n",
      "[CV] END bootstrap=False, max_depth=None, max_features=30, min_samples_leaf=1, min_samples_split=5, n_estimators=25; total time=   0.0s\n",
      "[CV] END bootstrap=True, max_depth=10, max_features=38, min_samples_leaf=2, min_samples_split=5, n_estimators=25; total time=   0.0s\n",
      "[CV] END bootstrap=False, max_depth=136, max_features=20, min_samples_leaf=4, min_samples_split=2, n_estimators=25; total time=   0.0s\n",
      "[CV] END bootstrap=False, max_depth=136, max_features=6, min_samples_leaf=1, min_samples_split=2, n_estimators=25; total time=   0.2s\n",
      "[CV] END bootstrap=True, max_depth=10, max_features=34, min_samples_leaf=4, min_samples_split=2, n_estimators=25; total time=   0.0s\n",
      "[CV] END bootstrap=False, max_depth=136, max_features=20, min_samples_leaf=4, min_samples_split=2, n_estimators=25; total time=   0.0s\n",
      "[CV] END bootstrap=True, max_depth=10, max_features=34, min_samples_leaf=4, min_samples_split=2, n_estimators=25; total time=   0.0s\n",
      "[CV] END bootstrap=False, max_depth=136, max_features=20, min_samples_leaf=4, min_samples_split=2, n_estimators=25; total time=   0.0s\n",
      "[CV] END bootstrap=True, max_depth=10, max_features=34, min_samples_leaf=4, min_samples_split=2, n_estimators=25; total time=   0.0s\n",
      "[CV] END bootstrap=False, max_depth=115, max_features=24, min_samples_leaf=2, min_samples_split=10, n_estimators=25; total time=   0.0s\n",
      "[CV] END bootstrap=False, max_depth=115, max_features=24, min_samples_leaf=2, min_samples_split=10, n_estimators=25; total time=   0.0s\n",
      "[CV] END bootstrap=True, max_depth=31, max_features=4, min_samples_leaf=4, min_samples_split=5, n_estimators=25; total time=   0.1s\n",
      "[CV] END bootstrap=False, max_depth=52, max_features=22, min_samples_leaf=2, min_samples_split=2, n_estimators=25; total time=   0.0s\n",
      "[CV] END bootstrap=False, max_depth=73, max_features=26, min_samples_leaf=4, min_samples_split=2, n_estimators=25; total time=   0.0s\n",
      "[CV] END bootstrap=True, max_depth=31, max_features=4, min_samples_leaf=4, min_samples_split=5, n_estimators=25; total time=   0.1s\n",
      "[CV] END bootstrap=False, max_depth=52, max_features=22, min_samples_leaf=2, min_samples_split=2, n_estimators=25; total time=   0.0s\n",
      "[CV] END bootstrap=False, max_depth=73, max_features=28, min_samples_leaf=1, min_samples_split=2, n_estimators=25; total time=   0.0s\n",
      "[CV] END bootstrap=False, max_depth=178, max_features=4, min_samples_leaf=2, min_samples_split=2, n_estimators=25; total time=   0.2s\n",
      "[CV] END bootstrap=False, max_depth=52, max_features=22, min_samples_leaf=2, min_samples_split=2, n_estimators=25; total time=   0.0s\n",
      "[CV] END bootstrap=False, max_depth=73, max_features=26, min_samples_leaf=4, min_samples_split=2, n_estimators=25; total time=   0.0s\n",
      "[CV] END bootstrap=False, max_depth=73, max_features=28, min_samples_leaf=1, min_samples_split=2, n_estimators=25; total time=   0.0s\n",
      "[CV] END bootstrap=True, max_depth=178, max_features=6, min_samples_leaf=4, min_samples_split=10, n_estimators=25; total time=   0.1s\n",
      "[CV] END bootstrap=False, max_depth=73, max_features=26, min_samples_leaf=4, min_samples_split=2, n_estimators=25; total time=   0.0s\n",
      "[CV] END bootstrap=False, max_depth=73, max_features=28, min_samples_leaf=1, min_samples_split=2, n_estimators=25; total time=   0.0s\n",
      "[CV] END bootstrap=True, max_depth=None, max_features=30, min_samples_leaf=4, min_samples_split=2, n_estimators=25; total time=   0.0s\n",
      "[CV] END bootstrap=False, max_depth=52, max_features=10, min_samples_leaf=1, min_samples_split=10, n_estimators=25; total time=   0.0s\n",
      "[CV] END bootstrap=False, max_depth=178, max_features=4, min_samples_leaf=2, min_samples_split=2, n_estimators=25; total time=   0.2s\n",
      "[CV] END bootstrap=True, max_depth=None, max_features=30, min_samples_leaf=4, min_samples_split=2, n_estimators=25; total time=   0.0s\n",
      "[CV] END bootstrap=False, max_depth=52, max_features=10, min_samples_leaf=1, min_samples_split=10, n_estimators=25; total time=   0.0s\n",
      "[CV] END bootstrap=True, max_depth=None, max_features=30, min_samples_leaf=4, min_samples_split=2, n_estimators=25; total time=   0.0s\n",
      "[CV] END bootstrap=False, max_depth=52, max_features=10, min_samples_leaf=1, min_samples_split=10, n_estimators=25; total time=   0.0s\n",
      "[CV] END bootstrap=True, max_depth=31, max_features=38, min_samples_leaf=1, min_samples_split=2, n_estimators=25; total time=   0.0s\n",
      "[CV] END bootstrap=True, max_depth=31, max_features=38, min_samples_leaf=1, min_samples_split=2, n_estimators=25; total time=   0.0s\n",
      "[CV] END bootstrap=True, max_depth=200, max_features=2, min_samples_leaf=1, min_samples_split=10, n_estimators=25; total time=   0.1s\n",
      "[CV] END bootstrap=True, max_depth=200, max_features=20, min_samples_leaf=1, min_samples_split=5, n_estimators=25; total time=   0.0s\n",
      "[CV] END bootstrap=False, max_depth=136, max_features=2, min_samples_leaf=1, min_samples_split=2, n_estimators=25; total time=   0.1s\n",
      "[CV] END bootstrap=True, max_depth=31, max_features=38, min_samples_leaf=1, min_samples_split=2, n_estimators=25; total time=   0.0s\n",
      "[CV] END bootstrap=True, max_depth=200, max_features=20, min_samples_leaf=1, min_samples_split=5, n_estimators=25; total time=   0.0s\n",
      "[CV] END bootstrap=True, max_depth=94, max_features=12, min_samples_leaf=1, min_samples_split=5, n_estimators=25; total time=   0.0s\n",
      "[CV] END bootstrap=True, max_depth=200, max_features=20, min_samples_leaf=1, min_samples_split=5, n_estimators=25; total time=   0.0s\n",
      "[CV] END bootstrap=True, max_depth=94, max_features=12, min_samples_leaf=1, min_samples_split=5, n_estimators=25; total time=   0.0s\n",
      "[CV] END bootstrap=True, max_depth=None, max_features=16, min_samples_leaf=2, min_samples_split=5, n_estimators=25; total time=   0.0s\n",
      "[CV] END bootstrap=True, max_depth=178, max_features=6, min_samples_leaf=4, min_samples_split=10, n_estimators=25; total time=   0.2s\n",
      "[CV] END bootstrap=True, max_depth=52, max_features=30, min_samples_leaf=1, min_samples_split=5, n_estimators=25; total time=   0.0s\n",
      "[CV] END bootstrap=True, max_depth=None, max_features=16, min_samples_leaf=2, min_samples_split=5, n_estimators=25; total time=   0.0s\n",
      "[CV] END bootstrap=False, max_depth=178, max_features=4, min_samples_leaf=2, min_samples_split=2, n_estimators=25; total time=   0.1s\n",
      "[CV] END bootstrap=True, max_depth=52, max_features=30, min_samples_leaf=1, min_samples_split=5, n_estimators=25; total time=   0.0s\n",
      "[CV] END bootstrap=True, max_depth=None, max_features=16, min_samples_leaf=2, min_samples_split=5, n_estimators=25; total time=   0.0s\n",
      "[CV] END bootstrap=True, max_depth=200, max_features=2, min_samples_leaf=1, min_samples_split=10, n_estimators=25; total time=   0.1s\n",
      "[CV] END bootstrap=False, max_depth=31, max_features=30, min_samples_leaf=4, min_samples_split=10, n_estimators=25; total time=   0.0s\n",
      "[CV] END bootstrap=True, max_depth=52, max_features=30, min_samples_leaf=1, min_samples_split=5, n_estimators=25; total time=   0.0s\n",
      "[CV] END bootstrap=True, max_depth=94, max_features=12, min_samples_leaf=1, min_samples_split=5, n_estimators=25; total time=   0.0s\n",
      "[CV] END bootstrap=False, max_depth=136, max_features=2, min_samples_leaf=1, min_samples_split=2, n_estimators=25; total time=   0.1s\n",
      "[CV] END bootstrap=False, max_depth=31, max_features=30, min_samples_leaf=4, min_samples_split=10, n_estimators=25; total time=   0.0s\n",
      "[CV] END bootstrap=True, max_depth=94, max_features=28, min_samples_leaf=4, min_samples_split=10, n_estimators=25; total time=   0.0s\n",
      "[CV] END bootstrap=False, max_depth=31, max_features=34, min_samples_leaf=1, min_samples_split=5, n_estimators=25; total time=   0.0s\n",
      "[CV] END bootstrap=True, max_depth=94, max_features=28, min_samples_leaf=4, min_samples_split=10, n_estimators=25; total time=   0.0s\n",
      "[CV] END bootstrap=False, max_depth=31, max_features=30, min_samples_leaf=4, min_samples_split=10, n_estimators=25; total time=   0.0s\n",
      "[CV] END bootstrap=True, max_depth=200, max_features=32, min_samples_leaf=4, min_samples_split=2, n_estimators=25; total time=   0.0s\n",
      "[CV] END bootstrap=False, max_depth=None, max_features=34, min_samples_leaf=1, min_samples_split=2, n_estimators=25; total time=   0.0s\n",
      "[CV] END bootstrap=True, max_depth=94, max_features=28, min_samples_leaf=4, min_samples_split=10, n_estimators=25; total time=   0.0s\n",
      "[CV] END bootstrap=True, max_depth=200, max_features=32, min_samples_leaf=4, min_samples_split=2, n_estimators=25; total time=   0.0s\n",
      "[CV] END bootstrap=False, max_depth=None, max_features=34, min_samples_leaf=1, min_samples_split=2, n_estimators=25; total time=   0.0s\n",
      "[CV] END bootstrap=False, max_depth=None, max_features=34, min_samples_leaf=1, min_samples_split=2, n_estimators=25; total time=   0.0s\n",
      "[CV] END bootstrap=True, max_depth=200, max_features=32, min_samples_leaf=4, min_samples_split=2, n_estimators=25; total time=   0.0s\n",
      "[CV] END bootstrap=True, max_depth=200, max_features=2, min_samples_leaf=1, min_samples_split=10, n_estimators=25; total time=   0.1s\n",
      "[CV] END bootstrap=True, max_depth=178, max_features=6, min_samples_leaf=4, min_samples_split=10, n_estimators=25; total time=   0.2s\n",
      "[CV] END bootstrap=False, max_depth=31, max_features=34, min_samples_leaf=1, min_samples_split=5, n_estimators=25; total time=   0.0s[CV] END bootstrap=False, max_depth=136, max_features=2, min_samples_leaf=1, min_samples_split=2, n_estimators=25; total time=   0.1s\n",
      "\n",
      "[CV] END bootstrap=False, max_depth=73, max_features=30, min_samples_leaf=4, min_samples_split=10, n_estimators=25; total time=   0.0s\n",
      "[CV] END bootstrap=False, max_depth=178, max_features=34, min_samples_leaf=4, min_samples_split=2, n_estimators=25; total time=   0.0s\n",
      "[CV] END bootstrap=False, max_depth=31, max_features=34, min_samples_leaf=1, min_samples_split=5, n_estimators=25; total time=   0.0s\n",
      "[CV] END bootstrap=True, max_depth=10, max_features=26, min_samples_leaf=1, min_samples_split=5, n_estimators=25; total time=   0.0s\n",
      "[CV] END bootstrap=False, max_depth=73, max_features=30, min_samples_leaf=4, min_samples_split=10, n_estimators=25; total time=   0.0s\n",
      "[CV] END bootstrap=False, max_depth=73, max_features=30, min_samples_leaf=4, min_samples_split=10, n_estimators=25; total time=   0.0s\n",
      "[CV] END bootstrap=True, max_depth=10, max_features=26, min_samples_leaf=1, min_samples_split=5, n_estimators=25; total time=   0.0s\n",
      "[CV] END bootstrap=True, max_depth=31, max_features=2, min_samples_leaf=4, min_samples_split=5, n_estimators=25; total time=   0.1s\n",
      "[CV] END bootstrap=True, max_depth=10, max_features=26, min_samples_leaf=1, min_samples_split=5, n_estimators=25; total time=   0.0s\n",
      "[CV] END bootstrap=False, max_depth=115, max_features=24, min_samples_leaf=2, min_samples_split=10, n_estimators=25; total time=   0.0s\n",
      "[CV] END bootstrap=False, max_depth=200, max_features=2, min_samples_leaf=1, min_samples_split=2, n_estimators=25; total time=   0.1s\n",
      "[CV] END bootstrap=True, max_depth=94, max_features=14, min_samples_leaf=4, min_samples_split=2, n_estimators=25; total time=   0.0s\n",
      "[CV] END bootstrap=True, max_depth=10, max_features=2, min_samples_leaf=4, min_samples_split=10, n_estimators=25; total time=   0.1s\n",
      "[CV] END bootstrap=True, max_depth=94, max_features=14, min_samples_leaf=4, min_samples_split=2, n_estimators=25; total time=   0.0s\n",
      "[CV] END bootstrap=True, max_depth=10, max_features=2, min_samples_leaf=4, min_samples_split=10, n_estimators=25; total time=   0.1s\n",
      "[CV] END bootstrap=True, max_depth=94, max_features=14, min_samples_leaf=4, min_samples_split=2, n_estimators=25; total time=   0.0s\n",
      "[CV] END bootstrap=True, max_depth=10, max_features=2, min_samples_leaf=4, min_samples_split=10, n_estimators=25; total time=   0.1s\n",
      "[CV] END bootstrap=False, max_depth=73, max_features=36, min_samples_leaf=4, min_samples_split=2, n_estimators=25; total time=   0.0s\n",
      "[CV] END bootstrap=True, max_depth=31, max_features=2, min_samples_leaf=4, min_samples_split=5, n_estimators=25; total time=   0.1s\n",
      "[CV] END bootstrap=True, max_depth=200, max_features=24, min_samples_leaf=4, min_samples_split=10, n_estimators=25; total time=   0.0s\n",
      "[CV] END bootstrap=False, max_depth=73, max_features=36, min_samples_leaf=4, min_samples_split=2, n_estimators=25; total time=   0.0s\n",
      "[CV] END bootstrap=False, max_depth=200, max_features=2, min_samples_leaf=1, min_samples_split=2, n_estimators=25; total time=   0.1s\n",
      "[CV] END bootstrap=True, max_depth=200, max_features=24, min_samples_leaf=4, min_samples_split=10, n_estimators=25; total time=   0.0s\n",
      "[CV] END bootstrap=False, max_depth=73, max_features=36, min_samples_leaf=4, min_samples_split=2, n_estimators=25; total time=   0.0s\n",
      "[CV] END bootstrap=True, max_depth=200, max_features=24, min_samples_leaf=4, min_samples_split=10, n_estimators=25; total time=   0.0s\n",
      "[CV] END bootstrap=False, max_depth=None, max_features=36, min_samples_leaf=2, min_samples_split=10, n_estimators=25; total time=   0.0s\n",
      "[CV] END bootstrap=True, max_depth=136, max_features=4, min_samples_leaf=4, min_samples_split=2, n_estimators=25; total time=   0.1s\n",
      "[CV] END bootstrap=True, max_depth=136, max_features=4, min_samples_leaf=4, min_samples_split=2, n_estimators=25; total time=   0.1s\n",
      "[CV] END bootstrap=False, max_depth=None, max_features=36, min_samples_leaf=2, min_samples_split=10, n_estimators=25; total time=   0.0s\n",
      "[CV] END bootstrap=False, max_depth=None, max_features=36, min_samples_leaf=2, min_samples_split=10, n_estimators=25; total time=   0.0s\n",
      "[CV] END bootstrap=True, max_depth=136, max_features=4, min_samples_leaf=4, min_samples_split=2, n_estimators=25; total time=   0.2s\n",
      "[CV] END bootstrap=False, max_depth=None, max_features=38, min_samples_leaf=1, min_samples_split=2, n_estimators=25; total time=   0.0s\n",
      "[CV] END bootstrap=False, max_depth=None, max_features=38, min_samples_leaf=1, min_samples_split=2, n_estimators=25; total time=   0.0s\n",
      "[CV] END bootstrap=False, max_depth=None, max_features=38, min_samples_leaf=1, min_samples_split=2, n_estimators=25; total time=   0.0s\n",
      "[CV] END bootstrap=True, max_depth=94, max_features=36, min_samples_leaf=4, min_samples_split=2, n_estimators=25; total time=   0.0s\n",
      "[CV] END bootstrap=False, max_depth=200, max_features=2, min_samples_leaf=1, min_samples_split=2, n_estimators=25; total time=   0.1s\n",
      "[CV] END bootstrap=False, max_depth=157, max_features=2, min_samples_leaf=4, min_samples_split=5, n_estimators=25; total time=   0.1s\n",
      "[CV] END bootstrap=True, max_depth=94, max_features=36, min_samples_leaf=4, min_samples_split=2, n_estimators=25; total time=   0.0s\n",
      "[CV] END bootstrap=True, max_depth=94, max_features=36, min_samples_leaf=4, min_samples_split=2, n_estimators=25; total time=   0.0s\n",
      "[CV] END bootstrap=False, max_depth=157, max_features=2, min_samples_leaf=4, min_samples_split=5, n_estimators=25; total time=   0.1s\n",
      "[CV] END bootstrap=False, max_depth=157, max_features=2, min_samples_leaf=4, min_samples_split=5, n_estimators=25; total time=   0.1s\n",
      "[CV] END bootstrap=False, max_depth=31, max_features=10, min_samples_leaf=4, min_samples_split=2, n_estimators=25; total time=   0.0s\n",
      "[CV] END bootstrap=False, max_depth=31, max_features=10, min_samples_leaf=4, min_samples_split=2, n_estimators=25; total time=   0.0s\n",
      "[CV] END bootstrap=False, max_depth=31, max_features=10, min_samples_leaf=4, min_samples_split=2, n_estimators=25; total time=   0.0s\n",
      "[CV] END bootstrap=False, max_depth=31, max_features=12, min_samples_leaf=4, min_samples_split=5, n_estimators=25; total time=   0.0s\n",
      "[CV] END bootstrap=True, max_depth=31, max_features=2, min_samples_leaf=4, min_samples_split=5, n_estimators=25; total time=   0.1s\n",
      "[CV] END bootstrap=False, max_depth=31, max_features=12, min_samples_leaf=4, min_samples_split=5, n_estimators=25; total time=   0.0s\n",
      "[CV] END bootstrap=False, max_depth=31, max_features=12, min_samples_leaf=4, min_samples_split=5, n_estimators=25; total time=   0.0s\n",
      "[CV] END bootstrap=False, max_depth=136, max_features=10, min_samples_leaf=2, min_samples_split=2, n_estimators=25; total time=   0.0s\n",
      "[CV] END bootstrap=False, max_depth=136, max_features=10, min_samples_leaf=2, min_samples_split=2, n_estimators=25; total time=   0.0s\n",
      "[CV] END bootstrap=False, max_depth=136, max_features=10, min_samples_leaf=2, min_samples_split=2, n_estimators=25; total time=   0.0s\n",
      "[CV] END bootstrap=False, max_depth=None, max_features=4, min_samples_leaf=2, min_samples_split=5, n_estimators=25; total time=   0.1s\n",
      "[CV] END bootstrap=False, max_depth=None, max_features=4, min_samples_leaf=2, min_samples_split=5, n_estimators=25; total time=   0.2s\n",
      "[CV] END bootstrap=False, max_depth=None, max_features=4, min_samples_leaf=2, min_samples_split=5, n_estimators=25; total time=   0.2s\n"
     ]
    },
    {
     "name": "stderr",
     "output_type": "stream",
     "text": [
      "/Users/bacci/opt/anaconda3/envs/IoT-HumanDetection/lib/python3.9/site-packages/sklearn/model_selection/_validation.py:372: FitFailedWarning: \n",
      "231 fits failed out of a total of 300.\n",
      "The score on these train-test partitions for these parameters will be set to nan.\n",
      "If these failures are not expected, you can try to debug them by setting error_score='raise'.\n",
      "\n",
      "Below are more details about the failures:\n",
      "--------------------------------------------------------------------------------\n",
      "135 fits failed with the following error:\n",
      "Traceback (most recent call last):\n",
      "  File \"/Users/bacci/opt/anaconda3/envs/IoT-HumanDetection/lib/python3.9/site-packages/sklearn/model_selection/_validation.py\", line 680, in _fit_and_score\n",
      "    estimator.fit(X_train, y_train, **fit_params)\n",
      "  File \"/Users/bacci/opt/anaconda3/envs/IoT-HumanDetection/lib/python3.9/site-packages/sklearn/ensemble/_forest.py\", line 450, in fit\n",
      "    trees = Parallel(\n",
      "  File \"/Users/bacci/opt/anaconda3/envs/IoT-HumanDetection/lib/python3.9/site-packages/joblib/parallel.py\", line 1043, in __call__\n",
      "    if self.dispatch_one_batch(iterator):\n",
      "  File \"/Users/bacci/opt/anaconda3/envs/IoT-HumanDetection/lib/python3.9/site-packages/joblib/parallel.py\", line 861, in dispatch_one_batch\n",
      "    self._dispatch(tasks)\n",
      "  File \"/Users/bacci/opt/anaconda3/envs/IoT-HumanDetection/lib/python3.9/site-packages/joblib/parallel.py\", line 779, in _dispatch\n",
      "    job = self._backend.apply_async(batch, callback=cb)\n",
      "  File \"/Users/bacci/opt/anaconda3/envs/IoT-HumanDetection/lib/python3.9/site-packages/joblib/_parallel_backends.py\", line 208, in apply_async\n",
      "    result = ImmediateResult(func)\n",
      "  File \"/Users/bacci/opt/anaconda3/envs/IoT-HumanDetection/lib/python3.9/site-packages/joblib/_parallel_backends.py\", line 572, in __init__\n",
      "    self.results = batch()\n",
      "  File \"/Users/bacci/opt/anaconda3/envs/IoT-HumanDetection/lib/python3.9/site-packages/joblib/parallel.py\", line 262, in __call__\n",
      "    return [func(*args, **kwargs)\n",
      "  File \"/Users/bacci/opt/anaconda3/envs/IoT-HumanDetection/lib/python3.9/site-packages/joblib/parallel.py\", line 262, in <listcomp>\n",
      "    return [func(*args, **kwargs)\n",
      "  File \"/Users/bacci/opt/anaconda3/envs/IoT-HumanDetection/lib/python3.9/site-packages/sklearn/utils/fixes.py\", line 216, in __call__\n",
      "    return self.function(*args, **kwargs)\n",
      "  File \"/Users/bacci/opt/anaconda3/envs/IoT-HumanDetection/lib/python3.9/site-packages/sklearn/ensemble/_forest.py\", line 185, in _parallel_build_trees\n",
      "    tree.fit(X, y, sample_weight=curr_sample_weight, check_input=False)\n",
      "  File \"/Users/bacci/opt/anaconda3/envs/IoT-HumanDetection/lib/python3.9/site-packages/sklearn/tree/_classes.py\", line 937, in fit\n",
      "    super().fit(\n",
      "  File \"/Users/bacci/opt/anaconda3/envs/IoT-HumanDetection/lib/python3.9/site-packages/sklearn/tree/_classes.py\", line 308, in fit\n",
      "    raise ValueError(\"max_features must be in (0, n_features]\")\n",
      "ValueError: max_features must be in (0, n_features]\n",
      "\n",
      "--------------------------------------------------------------------------------\n",
      "96 fits failed with the following error:\n",
      "Traceback (most recent call last):\n",
      "  File \"/Users/bacci/opt/anaconda3/envs/IoT-HumanDetection/lib/python3.9/site-packages/sklearn/model_selection/_validation.py\", line 680, in _fit_and_score\n",
      "    estimator.fit(X_train, y_train, **fit_params)\n",
      "  File \"/Users/bacci/opt/anaconda3/envs/IoT-HumanDetection/lib/python3.9/site-packages/sklearn/ensemble/_forest.py\", line 450, in fit\n",
      "    trees = Parallel(\n",
      "  File \"/Users/bacci/opt/anaconda3/envs/IoT-HumanDetection/lib/python3.9/site-packages/joblib/parallel.py\", line 1043, in __call__\n",
      "    if self.dispatch_one_batch(iterator):\n",
      "  File \"/Users/bacci/opt/anaconda3/envs/IoT-HumanDetection/lib/python3.9/site-packages/joblib/parallel.py\", line 861, in dispatch_one_batch\n",
      "    self._dispatch(tasks)\n",
      "  File \"/Users/bacci/opt/anaconda3/envs/IoT-HumanDetection/lib/python3.9/site-packages/joblib/parallel.py\", line 779, in _dispatch\n",
      "    job = self._backend.apply_async(batch, callback=cb)\n",
      "  File \"/Users/bacci/opt/anaconda3/envs/IoT-HumanDetection/lib/python3.9/site-packages/joblib/_parallel_backends.py\", line 208, in apply_async\n",
      "    result = ImmediateResult(func)\n",
      "  File \"/Users/bacci/opt/anaconda3/envs/IoT-HumanDetection/lib/python3.9/site-packages/joblib/_parallel_backends.py\", line 572, in __init__\n",
      "    self.results = batch()\n",
      "  File \"/Users/bacci/opt/anaconda3/envs/IoT-HumanDetection/lib/python3.9/site-packages/joblib/parallel.py\", line 262, in __call__\n",
      "    return [func(*args, **kwargs)\n",
      "  File \"/Users/bacci/opt/anaconda3/envs/IoT-HumanDetection/lib/python3.9/site-packages/joblib/parallel.py\", line 262, in <listcomp>\n",
      "    return [func(*args, **kwargs)\n",
      "  File \"/Users/bacci/opt/anaconda3/envs/IoT-HumanDetection/lib/python3.9/site-packages/sklearn/utils/fixes.py\", line 216, in __call__\n",
      "    return self.function(*args, **kwargs)\n",
      "  File \"/Users/bacci/opt/anaconda3/envs/IoT-HumanDetection/lib/python3.9/site-packages/sklearn/ensemble/_forest.py\", line 187, in _parallel_build_trees\n",
      "    tree.fit(X, y, sample_weight=sample_weight, check_input=False)\n",
      "  File \"/Users/bacci/opt/anaconda3/envs/IoT-HumanDetection/lib/python3.9/site-packages/sklearn/tree/_classes.py\", line 937, in fit\n",
      "    super().fit(\n",
      "  File \"/Users/bacci/opt/anaconda3/envs/IoT-HumanDetection/lib/python3.9/site-packages/sklearn/tree/_classes.py\", line 308, in fit\n",
      "    raise ValueError(\"max_features must be in (0, n_features]\")\n",
      "ValueError: max_features must be in (0, n_features]\n",
      "\n",
      "  warnings.warn(some_fits_failed_message, FitFailedWarning)\n",
      "/Users/bacci/opt/anaconda3/envs/IoT-HumanDetection/lib/python3.9/site-packages/sklearn/model_selection/_search.py:969: UserWarning: One or more of the test scores are non-finite: [0.98279707        nan 0.98088502        nan        nan        nan\n",
      "        nan        nan 0.98215911        nan        nan        nan\n",
      "        nan        nan        nan        nan        nan        nan\n",
      "        nan 0.98438952        nan        nan        nan 0.98184074\n",
      "        nan 0.98438952        nan        nan        nan        nan\n",
      "        nan        nan        nan        nan        nan        nan\n",
      " 0.98311544 0.98407115 0.98311422        nan        nan        nan\n",
      "        nan 0.97992808 0.98375187        nan        nan        nan\n",
      "        nan 0.98247748        nan        nan        nan 0.9834332\n",
      "        nan        nan        nan        nan        nan        nan\n",
      "        nan 0.98247778        nan        nan        nan        nan\n",
      " 0.9821588  0.98088441        nan        nan        nan 0.98247839\n",
      "        nan        nan        nan        nan        nan        nan\n",
      "        nan        nan        nan        nan        nan        nan\n",
      " 0.98343289 0.98279707        nan        nan        nan 0.98215941\n",
      "        nan 0.98343411        nan 0.98438892        nan        nan\n",
      " 0.9834332         nan        nan        nan]\n",
      "  warnings.warn(\n"
     ]
    },
    {
     "data": {
      "text/plain": [
       "RandomizedSearchCV(cv=3, estimator=RandomForestClassifier(), n_iter=100,\n",
       "                   n_jobs=-1,\n",
       "                   param_distributions={'bootstrap': [True, False],\n",
       "                                        'max_depth': [10, 31, 52, 73, 94, 115,\n",
       "                                                      136, 157, 178, 200,\n",
       "                                                      None],\n",
       "                                        'max_features': [2, 4, 6, 8, 10, 12, 14,\n",
       "                                                         16, 18, 20, 22, 24, 26,\n",
       "                                                         28, 30, 32, 34, 36, 38,\n",
       "                                                         40, 'auto'],\n",
       "                                        'min_samples_leaf': [1, 2, 4],\n",
       "                                        'min_samples_split': [2, 5, 10],\n",
       "                                        'n_estimators': [25]},\n",
       "                   random_state=42, verbose=2)"
      ]
     },
     "execution_count": 160,
     "metadata": {},
     "output_type": "execute_result"
    }
   ],
   "source": [
    "# Use the random grid to search for best hyperparameters\n",
    "\n",
    "rf = RandomForestClassifier()\n",
    "\n",
    "rf_random = RandomizedSearchCV(estimator = rf, param_distributions = random_grid, n_iter = 100, cv = 3, verbose=2, random_state=42, n_jobs = -1)\n",
    "rf_random.fit(x_train, y_train)"
   ]
  },
  {
   "cell_type": "code",
   "execution_count": 161,
   "id": "b5edace4",
   "metadata": {},
   "outputs": [
    {
     "data": {
      "text/plain": [
       "{'n_estimators': 25,\n",
       " 'min_samples_split': 5,\n",
       " 'min_samples_leaf': 4,\n",
       " 'max_features': 2,\n",
       " 'max_depth': 157,\n",
       " 'bootstrap': True}"
      ]
     },
     "execution_count": 161,
     "metadata": {},
     "output_type": "execute_result"
    }
   ],
   "source": [
    "rf_random.best_params_"
   ]
  },
  {
   "cell_type": "code",
   "execution_count": 162,
   "id": "5b25f5ea",
   "metadata": {},
   "outputs": [
    {
     "name": "stdout",
     "output_type": "stream",
     "text": [
      "0.14557790756225586 0.0047512054443359375\n"
     ]
    }
   ],
   "source": [
    "classifier =  RandomForestClassifier(n_estimators=25, \n",
    "                                     max_depth=115, \n",
    "                                     min_samples_split=2, \n",
    "                                     min_samples_leaf=4, \n",
    "                                     max_features=6, \n",
    "                                     bootstrap=True\n",
    ")\n",
    "# fit \n",
    "start = time.time()\n",
    "classifier.fit(x_train, y_train)\n",
    "end = time.time()\n",
    "training_time = end - start\n",
    "\n",
    "# predict\n",
    "start = time.time()\n",
    "y_predicted = classifier.predict(x_validate)\n",
    "end = time.time()\n",
    "predict_time = end  - start\n",
    "print(training_time, predict_time)"
   ]
  },
  {
   "cell_type": "code",
   "execution_count": 163,
   "id": "782a6a42",
   "metadata": {},
   "outputs": [
    {
     "data": {
      "text/html": [
       "<div>\n",
       "<style scoped>\n",
       "    .dataframe tbody tr th:only-of-type {\n",
       "        vertical-align: middle;\n",
       "    }\n",
       "\n",
       "    .dataframe tbody tr th {\n",
       "        vertical-align: top;\n",
       "    }\n",
       "\n",
       "    .dataframe thead th {\n",
       "        text-align: right;\n",
       "    }\n",
       "</style>\n",
       "<table border=\"1\" class=\"dataframe\">\n",
       "  <thead>\n",
       "    <tr style=\"text-align: right;\">\n",
       "      <th></th>\n",
       "      <th>Precision</th>\n",
       "      <th>Recall</th>\n",
       "      <th>FScore</th>\n",
       "    </tr>\n",
       "  </thead>\n",
       "  <tbody>\n",
       "    <tr>\n",
       "      <th>0</th>\n",
       "      <td>0.984375</td>\n",
       "      <td>0.972973</td>\n",
       "      <td>0.978641</td>\n",
       "    </tr>\n",
       "    <tr>\n",
       "      <th>1</th>\n",
       "      <td>0.973832</td>\n",
       "      <td>0.984877</td>\n",
       "      <td>0.979323</td>\n",
       "    </tr>\n",
       "  </tbody>\n",
       "</table>\n",
       "</div>"
      ],
      "text/plain": [
       "   Precision    Recall    FScore\n",
       "0   0.984375  0.972973  0.978641\n",
       "1   0.973832  0.984877  0.979323"
      ]
     },
     "execution_count": 163,
     "metadata": {},
     "output_type": "execute_result"
    }
   ],
   "source": [
    "precision, recall, fscore, support = score(y_validate, y_predicted)\n",
    "d = {'Precision': precision, 'Recall' : recall, 'FScore': fscore}\n",
    "results = pd.DataFrame(data=d)\n",
    "results"
   ]
  },
  {
   "cell_type": "markdown",
   "id": "200650b1",
   "metadata": {
    "pycharm": {
     "name": "#%% md\n"
    }
   },
   "source": [
    "### K-Nearest Neighbor 🚪"
   ]
  },
  {
   "cell_type": "markdown",
   "id": "6f7b31a7",
   "metadata": {
    "pycharm": {
     "name": "#%% md\n"
    }
   },
   "source": [
    "Selecting *KNN* as classifier and starting the training."
   ]
  },
  {
   "cell_type": "code",
   "execution_count": 164,
   "id": "4e152433",
   "metadata": {
    "pycharm": {
     "name": "#%%\n"
    }
   },
   "outputs": [
    {
     "data": {
      "text/plain": [
       "KNeighborsClassifier(n_neighbors=100)"
      ]
     },
     "execution_count": 164,
     "metadata": {},
     "output_type": "execute_result"
    }
   ],
   "source": [
    "classifier = KNeighborsClassifier(n_neighbors=100)\n",
    "classifier.fit(x_train, y_train)"
   ]
  },
  {
   "cell_type": "code",
   "execution_count": 165,
   "id": "296f1e90",
   "metadata": {
    "pycharm": {
     "name": "#%%\n"
    }
   },
   "outputs": [],
   "source": [
    "y_pred = classifier.predict(x_test)"
   ]
  },
  {
   "cell_type": "code",
   "execution_count": 166,
   "id": "492b5407",
   "metadata": {
    "pycharm": {
     "name": "#%%\n"
    }
   },
   "outputs": [
    {
     "data": {
      "text/html": [
       "<div>\n",
       "<style scoped>\n",
       "    .dataframe tbody tr th:only-of-type {\n",
       "        vertical-align: middle;\n",
       "    }\n",
       "\n",
       "    .dataframe tbody tr th {\n",
       "        vertical-align: top;\n",
       "    }\n",
       "\n",
       "    .dataframe thead th {\n",
       "        text-align: right;\n",
       "    }\n",
       "</style>\n",
       "<table border=\"1\" class=\"dataframe\">\n",
       "  <thead>\n",
       "    <tr style=\"text-align: right;\">\n",
       "      <th></th>\n",
       "      <th>Precision</th>\n",
       "      <th>Recall</th>\n",
       "      <th>FScore</th>\n",
       "    </tr>\n",
       "  </thead>\n",
       "  <tbody>\n",
       "    <tr>\n",
       "      <th>0</th>\n",
       "      <td>0.986328</td>\n",
       "      <td>0.974903</td>\n",
       "      <td>0.980583</td>\n",
       "    </tr>\n",
       "    <tr>\n",
       "      <th>1</th>\n",
       "      <td>0.975701</td>\n",
       "      <td>0.986767</td>\n",
       "      <td>0.981203</td>\n",
       "    </tr>\n",
       "  </tbody>\n",
       "</table>\n",
       "</div>"
      ],
      "text/plain": [
       "   Precision    Recall    FScore\n",
       "0   0.986328  0.974903  0.980583\n",
       "1   0.975701  0.986767  0.981203"
      ]
     },
     "execution_count": 166,
     "metadata": {},
     "output_type": "execute_result"
    }
   ],
   "source": [
    "precision, recall, fscore, support = score(y_test, y_pred)\n",
    "d = {'Precision': precision, 'Recall' : recall, 'FScore': fscore}\n",
    "results = pd.DataFrame(data=d)\n",
    "results"
   ]
  },
  {
   "cell_type": "code",
   "execution_count": 167,
   "id": "5bdea344",
   "metadata": {
    "pycharm": {
     "name": "#%%\n"
    }
   },
   "outputs": [
    {
     "name": "stdout",
     "output_type": "stream",
     "text": [
      "[[505  13]\n",
      " [  7 522]]\n",
      "              precision    recall  f1-score   support\n",
      "\n",
      "         0.0       0.99      0.97      0.98       518\n",
      "         1.0       0.98      0.99      0.98       529\n",
      "\n",
      "    accuracy                           0.98      1047\n",
      "   macro avg       0.98      0.98      0.98      1047\n",
      "weighted avg       0.98      0.98      0.98      1047\n",
      "\n"
     ]
    }
   ],
   "source": [
    "print(confusion_matrix(y_test, y_pred))\n",
    "print(classification_report(y_test, y_pred))"
   ]
  },
  {
   "cell_type": "markdown",
   "id": "782491bb",
   "metadata": {
    "pycharm": {
     "name": "#%% md\n"
    }
   },
   "source": [
    "### Support Vector Machine 🤖"
   ]
  },
  {
   "cell_type": "code",
   "execution_count": 168,
   "id": "391c11e7",
   "metadata": {
    "pycharm": {
     "name": "#%%\n"
    }
   },
   "outputs": [
    {
     "data": {
      "text/plain": [
       "SVC(kernel='linear')"
      ]
     },
     "execution_count": 168,
     "metadata": {},
     "output_type": "execute_result"
    }
   ],
   "source": [
    "svclassifier = SVC(kernel='linear')\n",
    "svclassifier.fit(x_train, y_train)"
   ]
  },
  {
   "cell_type": "code",
   "execution_count": 169,
   "id": "3ffe3d79",
   "metadata": {
    "pycharm": {
     "name": "#%%\n"
    }
   },
   "outputs": [
    {
     "data": {
      "text/plain": [
       "SVC(kernel='linear')"
      ]
     },
     "execution_count": 169,
     "metadata": {},
     "output_type": "execute_result"
    }
   ],
   "source": [
    "svclassifier = SVC(kernel='linear')\n",
    "svclassifier.fit(x_train, y_train)"
   ]
  },
  {
   "cell_type": "code",
   "execution_count": 170,
   "id": "b7babd0a",
   "metadata": {
    "pycharm": {
     "name": "#%%\n"
    }
   },
   "outputs": [],
   "source": [
    "y_pred = svclassifier.predict(x_test)"
   ]
  },
  {
   "cell_type": "code",
   "execution_count": 171,
   "id": "d614fbde",
   "metadata": {
    "pycharm": {
     "name": "#%%\n"
    }
   },
   "outputs": [
    {
     "name": "stdout",
     "output_type": "stream",
     "text": [
      "[[508  10]\n",
      " [  5 524]]\n",
      "              precision    recall  f1-score   support\n",
      "\n",
      "         0.0       0.99      0.98      0.99       518\n",
      "         1.0       0.98      0.99      0.99       529\n",
      "\n",
      "    accuracy                           0.99      1047\n",
      "   macro avg       0.99      0.99      0.99      1047\n",
      "weighted avg       0.99      0.99      0.99      1047\n",
      "\n"
     ]
    }
   ],
   "source": [
    "print(confusion_matrix(y_test,y_pred))\n",
    "print(classification_report(y_test,y_pred))"
   ]
  },
  {
   "cell_type": "markdown",
   "id": "363839cf",
   "metadata": {
    "pycharm": {
     "name": "#%% md\n"
    }
   },
   "source": [
    "### Logistic Regression 🐵"
   ]
  },
  {
   "cell_type": "code",
   "execution_count": 172,
   "id": "674732db",
   "metadata": {
    "pycharm": {
     "name": "#%%\n"
    }
   },
   "outputs": [],
   "source": [
    "logreg = LogisticRegression()\n",
    "\n",
    "logreg.fit(x_train,y_train)\n",
    "\n",
    "y_pred=logreg.predict(x_test)"
   ]
  },
  {
   "cell_type": "code",
   "execution_count": 173,
   "id": "59e362e9",
   "metadata": {
    "pycharm": {
     "name": "#%%\n"
    }
   },
   "outputs": [
    {
     "data": {
      "text/plain": [
       "array([[510,   8],\n",
       "       [  8, 521]])"
      ]
     },
     "execution_count": 173,
     "metadata": {},
     "output_type": "execute_result"
    }
   ],
   "source": [
    "cnf_matrix = metrics.confusion_matrix(y_test, y_pred)\n",
    "cnf_matrix"
   ]
  },
  {
   "cell_type": "code",
   "execution_count": 174,
   "id": "44dbc75a",
   "metadata": {
    "pycharm": {
     "name": "#%%\n"
    }
   },
   "outputs": [
    {
     "name": "stdout",
     "output_type": "stream",
     "text": [
      "[[510   8]\n",
      " [  8 521]]\n",
      "              precision    recall  f1-score   support\n",
      "\n",
      "         0.0       0.98      0.98      0.98       518\n",
      "         1.0       0.98      0.98      0.98       529\n",
      "\n",
      "    accuracy                           0.98      1047\n",
      "   macro avg       0.98      0.98      0.98      1047\n",
      "weighted avg       0.98      0.98      0.98      1047\n",
      "\n"
     ]
    }
   ],
   "source": [
    "print(confusion_matrix(y_test, y_pred))\n",
    "print(classification_report(y_test, y_pred))"
   ]
  }
 ],
 "metadata": {
  "kernelspec": {
   "display_name": "Python 3.9.12 ('IoT-HumanDetection')",
   "language": "python",
   "name": "python3"
  },
  "language_info": {
   "codemirror_mode": {
    "name": "ipython",
    "version": 3
   },
   "file_extension": ".py",
   "mimetype": "text/x-python",
   "name": "python",
   "nbconvert_exporter": "python",
   "pygments_lexer": "ipython3",
   "version": "3.9.12"
  },
  "vscode": {
   "interpreter": {
    "hash": "2248ac2dd09380a913b747ef1429423c2e259c5dd2f2818dd383312453bcca53"
   }
  }
 },
 "nbformat": 4,
 "nbformat_minor": 5
}
