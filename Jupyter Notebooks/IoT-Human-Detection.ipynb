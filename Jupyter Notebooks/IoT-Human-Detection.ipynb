{
 "cells": [
  {
   "cell_type": "markdown",
   "id": "846ccba2",
   "metadata": {},
   "source": [
    "# IoT - Human Detection Notebook 📹"
   ]
  },
  {
   "cell_type": "markdown",
   "id": "1c8def3c",
   "metadata": {},
   "source": [
    "Giovanni Baccichet (10851745) - Politecnico di Milano"
   ]
  },
  {
   "cell_type": "markdown",
   "id": "f414b48a",
   "metadata": {},
   "source": [
    "## Libraries 📔"
   ]
  },
  {
   "cell_type": "markdown",
   "id": "2212e716",
   "metadata": {},
   "source": [
    "### Libraries: Importing and Visualizing the Dataset"
   ]
  },
  {
   "cell_type": "code",
   "execution_count": 1,
   "id": "cee22471",
   "metadata": {},
   "outputs": [
    {
     "ename": "ModuleNotFoundError",
     "evalue": "No module named 'matplotlib'",
     "output_type": "error",
     "traceback": [
      "\u001b[0;31m---------------------------------------------------------------------------\u001b[0m",
      "\u001b[0;31mModuleNotFoundError\u001b[0m                       Traceback (most recent call last)",
      "\u001b[1;32m/Users/bacci/GitHub/IoT-human-detection/Jupyter Notebooks/IoT-Human-Detection.ipynb Cell 5'\u001b[0m in \u001b[0;36m<cell line: 3>\u001b[0;34m()\u001b[0m\n\u001b[1;32m      <a href='vscode-notebook-cell:/Users/bacci/GitHub/IoT-human-detection/Jupyter%20Notebooks/IoT-Human-Detection.ipynb#ch0000003?line=0'>1</a>\u001b[0m \u001b[39mimport\u001b[39;00m \u001b[39mpandas\u001b[39;00m \u001b[39mas\u001b[39;00m \u001b[39mpd\u001b[39;00m \n\u001b[1;32m      <a href='vscode-notebook-cell:/Users/bacci/GitHub/IoT-human-detection/Jupyter%20Notebooks/IoT-Human-Detection.ipynb#ch0000003?line=1'>2</a>\u001b[0m \u001b[39mimport\u001b[39;00m \u001b[39mglob\u001b[39;00m\n\u001b[0;32m----> <a href='vscode-notebook-cell:/Users/bacci/GitHub/IoT-human-detection/Jupyter%20Notebooks/IoT-Human-Detection.ipynb#ch0000003?line=2'>3</a>\u001b[0m \u001b[39mimport\u001b[39;00m \u001b[39mmatplotlib\u001b[39;00m\u001b[39m.\u001b[39;00m\u001b[39mpyplot\u001b[39;00m \u001b[39mas\u001b[39;00m \u001b[39mplt\u001b[39;00m\n\u001b[1;32m      <a href='vscode-notebook-cell:/Users/bacci/GitHub/IoT-human-detection/Jupyter%20Notebooks/IoT-Human-Detection.ipynb#ch0000003?line=3'>4</a>\u001b[0m \u001b[39mimport\u001b[39;00m \u001b[39mnumpy\u001b[39;00m \u001b[39mas\u001b[39;00m \u001b[39mnp\u001b[39;00m\n\u001b[1;32m      <a href='vscode-notebook-cell:/Users/bacci/GitHub/IoT-human-detection/Jupyter%20Notebooks/IoT-Human-Detection.ipynb#ch0000003?line=4'>5</a>\u001b[0m \u001b[39mfrom\u001b[39;00m \u001b[39mnumpy\u001b[39;00m \u001b[39mimport\u001b[39;00m array\n",
      "\u001b[0;31mModuleNotFoundError\u001b[0m: No module named 'matplotlib'"
     ]
    }
   ],
   "source": [
    "import pandas as pd \n",
    "import glob\n",
    "import matplotlib.pyplot as plt\n",
    "import numpy as np\n",
    "from numpy import array\n",
    "import seaborn as sns\n",
    "import time"
   ]
  },
  {
   "cell_type": "markdown",
   "id": "8a2ae2fa",
   "metadata": {},
   "source": [
    "### Libraries: Random Forest Training and Optimization"
   ]
  },
  {
   "cell_type": "code",
   "execution_count": null,
   "id": "fcb07df3",
   "metadata": {},
   "outputs": [],
   "source": [
    "from sklearn import preprocessing\n",
    "from sklearn.preprocessing import StandardScaler\n",
    "from sklearn.preprocessing import MinMaxScaler\n",
    "from sklearn.preprocessing import RobustScaler\n",
    "from sklearn.model_selection import train_test_split\n",
    "\n",
    "from sklearn.naive_bayes import MultinomialNB\n",
    "from sklearn.decomposition import PCA\n",
    "from sklearn.ensemble import RandomForestRegressor\n",
    "from sklearn.ensemble import RandomForestClassifier\n",
    "\n",
    "from sklearn.feature_selection import SelectKBest\n",
    "from sklearn.feature_selection import chi2\n",
    "from sklearn.feature_selection import mutual_info_classif\n",
    "\n",
    "from sklearn import metrics\n",
    "from sklearn.metrics import accuracy_score\n",
    "from sklearn.metrics import confusion_matrix\n",
    "from sklearn.metrics import precision_recall_fscore_support as score\n",
    "from sklearn.metrics import completeness_score, homogeneity_score, v_measure_score\n",
    "\n",
    "import pickle"
   ]
  },
  {
   "cell_type": "markdown",
   "id": "636ee75d",
   "metadata": {},
   "source": [
    "## Pre-Processing 🧼"
   ]
  },
  {
   "cell_type": "code",
   "execution_count": null,
   "id": "eefb6654",
   "metadata": {},
   "outputs": [],
   "source": [
    "path = '' # Dataset in the notebook's same folder\n",
    "all_files = glob.glob(path + \"dataset-1-rtsp-src=camera.csv\")\n",
    "\n",
    "# Merge all \n",
    "df = pd.concat((pd.read_csv(f, encoding='cp1252', header=0) for f in all_files))\n",
    "df.columns = df.columns.str.replace(r' ','_', regex=True)"
   ]
  },
  {
   "cell_type": "code",
   "execution_count": null,
   "id": "dc3590c4",
   "metadata": {},
   "outputs": [],
   "source": [
    "print(df.shape)"
   ]
  },
  {
   "cell_type": "code",
   "execution_count": null,
   "id": "772eb725",
   "metadata": {},
   "outputs": [],
   "source": [
    "df.head()"
   ]
  }
 ],
 "metadata": {
  "interpreter": {
   "hash": "aee8b7b246df8f9039afb4144a1f6fd8d2ca17a180786b69acc140d282b71a49"
  },
  "kernelspec": {
   "display_name": "Python 3.9.12 64-bit",
   "language": "python",
   "name": "python3"
  },
  "language_info": {
   "codemirror_mode": {
    "name": "ipython",
    "version": 3
   },
   "file_extension": ".py",
   "mimetype": "text/x-python",
   "name": "python",
   "nbconvert_exporter": "python",
   "pygments_lexer": "ipython3",
   "version": "3.9.13"
  }
 },
 "nbformat": 4,
 "nbformat_minor": 5
}
